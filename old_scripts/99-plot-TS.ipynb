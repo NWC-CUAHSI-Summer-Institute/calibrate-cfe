{
 "cells": [
  {
   "attachments": {},
   "cell_type": "markdown",
   "metadata": {},
   "source": [
    "# Code to calculate desired evaluation metrics from best run timeseries"
   ]
  },
  {
   "attachments": {},
   "cell_type": "markdown",
   "metadata": {},
   "source": [
    "## import library and define functions"
   ]
  },
  {
   "cell_type": "code",
   "execution_count": 26,
   "metadata": {},
   "outputs": [],
   "source": [
    "import numpy as np\n",
    "import yaml\n",
    "import os\n",
    "import warnings\n",
    "import json\n",
    "import hydroeval as he\n",
    "import pandas as pd\n",
    "from tqdm import tqdm\n",
    "import hydroeval as he"
   ]
  },
  {
   "cell_type": "code",
   "execution_count": 31,
   "metadata": {},
   "outputs": [],
   "source": [
    "def calculate_nse(modeled_data, observed_data):\n",
    "    mean_observed = np.mean(observed_data)\n",
    "    numerator = np.sum(np.power(observed_data - modeled_data, 2))\n",
    "    denominator = np.sum(np.power(observed_data - mean_observed, 2))\n",
    "    return 1 - np.divide(numerator, denominator)\n",
    "\n",
    "def load_basin_list(basin_filename):\n",
    "    with open(basin_filename, 'r') as file:\n",
    "        lines = file.readlines()\n",
    "        # Remove leading/trailing whitespaces and newline characters\n",
    "        lines = [line.strip() for line in lines]\n",
    "    basin_list_str = lines\n",
    "    return basin_list_str\n",
    "\n",
    "def load_time_index(time_split_file):\n",
    "    with open(time_split_file) as f:\n",
    "        time_split = json.load(f)\n",
    "        print(time_split)\n",
    "        start_time = time_split['testing']['start_datetime']\n",
    "        end_time = time_split['testing']['end_datetime']\n",
    "        hourly_index = pd.date_range(start=start_time, end=end_time, freq='H')\n",
    "    return hourly_index, start_time, end_time\n",
    "\n",
    "def load_best_run_timeseries(best_runs_dir, basin_id, hourly_index):\n",
    "    best_runs_files = os.listdir(best_runs_dir)\n",
    "    best_run_for_a_basin = [file_name for file_name in best_runs_files if basin_id in file_name]\n",
    "    if len(best_run_for_a_basin) == 1:\n",
    "        with open(os.path.join(best_runs_dir, best_run_for_a_basin[0])) as f:\n",
    "            best_run = json.load(f)\n",
    "    elif len(best_run_for_a_basin) == 0:\n",
    "        warnings.warn(\"No calibration was done for this basin\")\n",
    "    elif len(best_run_for_a_basin) > 1:\n",
    "        warnings.warn(\"Multiple calibration runs are mixed up in one folder, check\")\n",
    "    best_run_timeseries = pd.DataFrame(best_run['simulated_Q(mm/h)'], columns=['simulated'])\n",
    "    best_run_timeseries.set_index(hourly_index, inplace=True)\n",
    "    return best_run_timeseries\n",
    "    \n",
    "def load_obs_timeseries(obs_data_dir, start_time, end_time, basin_id):\n",
    "    obs_data_files = os.listdir(obs_data_dir)\n",
    "    obs_data_file = [file_name for file_name in obs_data_files if file_name.startswith(basin_id)]\n",
    "\n",
    "    if len(obs_data_file)==1:\n",
    "        obs_data_ = pd.read_csv(os.path.join(obs_data_dir, obs_data_file[0]))\n",
    "    else:\n",
    "        warnings.warn(\"data is gone!\")\n",
    "        \n",
    "    obs_data_['date'] = pd.to_datetime(obs_data_['date'])\n",
    "    obs_data_.set_index(obs_data_['date'], inplace=True)\n",
    "    obs_data = obs_data_[start_time:end_time]\n",
    "    \n",
    "    return obs_data\n",
    "\n",
    "def load_forcing_timeseries(forcing_data_dir, start_time, end_time, basin_id):\n",
    "    forcing_data_files = os.listdir(forcing_data_dir)\n",
    "    forcing_data_file = [file_name for file_name in forcing_data_files if file_name.startswith(basin_id)]\n",
    "\n",
    "    if len(forcing_data_file)==1:\n",
    "        forcing_data_ = pd.read_csv(os.path.join(forcing_data_dir, forcing_data_file[0]))\n",
    "    else:\n",
    "        warnings.warn(\"data is gone!\")\n",
    "        \n",
    "    forcing_data_['date'] = pd.to_datetime(forcing_data_['date'])\n",
    "    forcing_data_.set_index(forcing_data_['date'], inplace=True)\n",
    "    forcing_data = forcing_data_[start_time:end_time]\n",
    "    \n",
    "    return forcing_data\n",
    "\n",
    "    "
   ]
  },
  {
   "attachments": {},
   "cell_type": "markdown",
   "metadata": {},
   "source": [
    "## Read configs"
   ]
  },
  {
   "cell_type": "code",
   "execution_count": 32,
   "metadata": {},
   "outputs": [],
   "source": [
    "# Read the config file\n",
    "with open('config.yaml', 'r') as f:\n",
    "    config = yaml.safe_load(f)\n",
    "\n",
    "# Access the config variables\n",
    "results_dir = config['io_dir']['results_dir'].replace(\"${cwd}\", \"..\")\n",
    "best_runs_dir = r'G:\\Shared drives\\SI_NextGen_Aridity\\calibrate_cfe\\results\\Testing-07July2023\\Testing\\runs'  #os.path.join(results_dir, 'best_runs', '')\n",
    "basin_filename = config['model_settings']['basin_file'].replace(\"${cwd}\", \"..\")\n",
    "time_split_file = config['model_settings']['time_split_file'].replace(\"${cwd}\", \"..\")\n",
    "obs_data_dir = config['io_dir']['usgs_streamflow_dir'].replace(\"${cwd}\", \"..\")\n",
    "forcing_data_dir = config['io_dir']['nldas_forcing_dir'].replace(\"${cwd}\", \"..\")"
   ]
  },
  {
   "attachments": {},
   "cell_type": "markdown",
   "metadata": {},
   "source": [
    "## Loop through basins and evaluate"
   ]
  },
  {
   "cell_type": "code",
   "execution_count": 36,
   "metadata": {},
   "outputs": [
    {
     "name": "stdout",
     "output_type": "stream",
     "text": [
      "{'spinup-for-calibration': {'start_datetime': '1998-10-01 00:00:00', 'end_datetime': '1999-09-30 23:00:00', 'note': 'Used for CFE model spin-up by 2023 team (1yr before calibration period)'}, 'calibration': {'start_datetime': '1999-10-01 00:00:00', 'end_datetime': '2008-09-30 23:00:00', 'note': 'Used for calibrating CFE model & training LSTM by 2023 team. Based on previous studies (Frame et al., 2022; Kratzert et al., 2019; Hoedt et al., 2021; Kratzert et al., 2021)'}, 'spinup-for-testing': {'start_datetime': '2008-10-01 00:00:00', 'end_datetime': '2009-09-30 23:00:00', 'note': 'Used for CFE model spin-up by 2023 team (1yr before testing period)'}, 'testing': {'start_datetime': '2009-10-01 00:00:00', 'end_datetime': '2010-09-30 23:00:00', 'note': \"Used for checking CFE & LSTM performance after calibration by 2023 team. No validation (hyper-parameter tuning) performed for LSTM. 1990 doesn't have much data\"}}\n"
     ]
    }
   ],
   "source": [
    "# Initialize\n",
    "basin_list_str = load_basin_list(basin_filename)\n",
    "df_results = pd.DataFrame(columns=['BasinID', 'NSE', 'NNSE', 'logNSE', 'KGE', 'logKGE'])\n",
    "plot_results = False\n",
    "\n",
    "# # To test one basin\n",
    "# i=0\n",
    "basin_id = '09447800'\n",
    "# for basin_id in ([basin_list_str[i]]):\n",
    "\n",
    "# # Loop through all the basins\n",
    "# for basin_id in tqdm(basin_list_str):\n",
    "\n",
    "# Load time split\n",
    "hourly_index, start_time, end_time = load_time_index(time_split_file)\n",
    "\n",
    "# Load and combine obs & simulated data \n",
    "best_run_timeseries = load_best_run_timeseries(best_runs_dir=best_runs_dir, basin_id=basin_id, hourly_index=hourly_index)\n",
    "obs_data = load_obs_timeseries(obs_data_dir=obs_data_dir, start_time=start_time, end_time=end_time, basin_id=basin_id)\n",
    "forcing_data = load_forcing_timeseries(forcing_data_dir=forcing_data_dir, start_time=start_time, end_time=end_time, basin_id=basin_id)\n",
    "df_eval_sim_ = obs_data.join(best_run_timeseries)\n"
   ]
  },
  {
   "cell_type": "code",
   "execution_count": 43,
   "metadata": {},
   "outputs": [],
   "source": [
    "df_eval_sim = df_eval_sim_.join(forcing_data.drop(columns='date'))\n"
   ]
  },
  {
   "cell_type": "code",
   "execution_count": 44,
   "metadata": {},
   "outputs": [
    {
     "name": "stdout",
     "output_type": "stream",
     "text": [
      "                                   date  QObs(mm/h)  QObs count qualifiers  \\\n",
      "date                                                                         \n",
      "2009-10-01 00:00:00 2009-10-01 00:00:00    0.000125           4    A/A/A/A   \n",
      "2009-10-01 01:00:00 2009-10-01 01:00:00    0.000125           4    A/A/A/A   \n",
      "2009-10-01 02:00:00 2009-10-01 02:00:00    0.000125           4    A/A/A/A   \n",
      "2009-10-01 03:00:00 2009-10-01 03:00:00    0.000126           4    A/A/A/A   \n",
      "2009-10-01 04:00:00 2009-10-01 04:00:00    0.000130           4    A/A/A/A   \n",
      "\n",
      "                     utcoffset(h)  (iv-camels)/camels  QObs_CAMELS(mm/h)  \\\n",
      "date                                                                       \n",
      "2009-10-01 00:00:00          -7.0            0.015729            0.00013   \n",
      "2009-10-01 01:00:00          -7.0            0.015729            0.00013   \n",
      "2009-10-01 02:00:00          -7.0            0.015729            0.00013   \n",
      "2009-10-01 03:00:00          -7.0            0.015729            0.00013   \n",
      "2009-10-01 04:00:00          -7.0            0.015729            0.00013   \n",
      "\n",
      "                     simulated  convective_fraction  longwave_radiation  \\\n",
      "date                                                                      \n",
      "2009-10-01 00:00:00        0.0                  0.0          317.491271   \n",
      "2009-10-01 01:00:00        0.0                  0.0          317.471681   \n",
      "2009-10-01 02:00:00        0.0                  0.0          317.455494   \n",
      "2009-10-01 03:00:00        0.0                  0.0          297.599107   \n",
      "2009-10-01 04:00:00        0.0                  0.0          297.588979   \n",
      "\n",
      "                     potential_energy  potential_evaporation      pressure  \\\n",
      "date                                                                         \n",
      "2009-10-01 00:00:00          0.030144               0.830563  84021.906378   \n",
      "2009-10-01 01:00:00          0.017379               0.259550  84057.705198   \n",
      "2009-10-01 02:00:00          0.008857               0.259550  84093.259254   \n",
      "2009-10-01 03:00:00          0.000000               0.259550  84128.759400   \n",
      "2009-10-01 04:00:00          0.000000               0.120449  84222.555474   \n",
      "\n",
      "                     shortwave_radiation  specific_humidity  temperature  \\\n",
      "date                                                                       \n",
      "2009-10-01 00:00:00           138.007877           0.004727    26.067333   \n",
      "2009-10-01 01:00:00             1.925598           0.005135    24.387420   \n",
      "2009-10-01 02:00:00             0.000000           0.005543    22.710617   \n",
      "2009-10-01 03:00:00             0.000000           0.005950    21.033247   \n",
      "2009-10-01 04:00:00             0.000000           0.005830    20.140412   \n",
      "\n",
      "                     total_precipitation     wind_u    wind_v  \n",
      "date                                                           \n",
      "2009-10-01 00:00:00                  0.0  10.054647  3.672034  \n",
      "2009-10-01 01:00:00                  0.0   8.345413  2.630714  \n",
      "2009-10-01 02:00:00                  0.0   6.636451  1.588854  \n",
      "2009-10-01 03:00:00                  0.0   4.927509  0.547782  \n",
      "2009-10-01 04:00:00                  0.0   4.667702  0.609190  \n"
     ]
    },
    {
     "data": {
      "image/png": "[encoded data removed]",
      "text/plain": [
       "<Figure size 640x480 with 1 Axes>"
      ]
     },
     "metadata": {},
     "output_type": "display_data"
    }
   ],
   "source": [
    "import matplotlib.pyplot as plt\n",
    "# plot sim against obs for the 1st year\n",
    "\n",
    "fig, ax1 = plt.subplots(figsize = (18,12)) \n",
    "p1, = ax1.plot(df_eval_sim['simulated_Q(mm/h)'],'tomato', linewidth = 2,label = \"sim\")\n",
    "p2, = ax1.plot(dates,obs_data,'k',label = \"obs\")\n",
    "ax1.set_ylabel('Discharge (mm/h)',fontsize = 26)\n",
    "ax1.set_ylim([0,2])\n",
    "ax1.tick_params(axis='x', labelsize= 24)\n",
    "ax1.tick_params(axis='y', labelsize= 24)\n",
    "ax1.margins(x=0)\n",
    "ax1.xaxis.set_ticks_position('both')\n",
    "ax1.xaxis.set_label_position('bottom')\n",
    "ax1.tick_params(axis=\"x\",direction=\"in\")\n",
    "ax2 = ax1.twinx()\n",
    "p3, = ax2.plot(dates,df_forcing['total_precipitation'],'tab:blue', label = \"precip\")\n",
    "ax2.set_ylim([50,0])\n",
    "ax2.margins(x=0)\n",
    "#ax2.invert_yaxis()\n",
    "ax2.set_ylabel('Precipitation (mm/h)',fontsize = 26)\n",
    "ax2.set_xlabel('Date', fontsize = 18)\n",
    "#ax2.tick_params(axis='x', labelsize= 24)\n",
    "ax2.tick_params(axis='y', labelsize= 24)\n",
    "plt.legend(handles = [p1,p2,p3],fontsize = 24, loc='lower right', bbox_to_anchor=(0.5, 0.5,0.5,0.5))\n",
    "textstr = '\\n'.join((f\"The KGE value is : {round(kge[0],4)}.\",f\"The NSE value is : {round(nse[0],4)}.\"))\n",
    "ax1.text(0.98, 0.45, textstr, transform=ax1.transAxes, fontsize=20,verticalalignment='center',horizontalalignment='right',bbox=dict(facecolor='white', alpha=0.5))\n",
    "plt.title(f\"Simulated Streamflow against Observation in the Testing Period [ID: 0{g_str}]\", fontsize = 28)\n",
    "plt.tight_layout()\n",
    "# If you want to plot results\n",
    "# plot_results = True\n",
    "# if plot_results: \n",
    "#     print(df_eval_sim.head())\n",
    "#     df_eval_sim[['QObs(mm/h)', 'simulated']].plot()\n",
    "\n",
    "# # Get desired columns\n",
    "# modeled_data_ = df_eval_sim['simulated'].values\n",
    "# observed_data_ = df_eval_sim['QObs(mm/h)'].values\n",
    "\n",
    "# # Skip nan values in the observed data\n",
    "# modeled_data = modeled_data_[~np.isnan(observed_data_)]\n",
    "# observed_data = observed_data_[~np.isnan(observed_data_)]\n"
   ]
  },
  {
   "cell_type": "code",
   "execution_count": 30,
   "metadata": {},
   "outputs": [],
   "source": [
    "\n",
    "# # Evalute (you can add as many eval metrics here)\n",
    "# nse = calculate_nse(modeled_data=modeled_data, observed_data=observed_data)\n",
    "# nnse = 1/(2-nse)\n",
    "# lognse = calculate_nse(modeled_data=np.log(modeled_data), observed_data=np.log(observed_data))\n",
    "# kge = he.evaluator(he.kge, simulations=modeled_data, evaluations=observed_data)\n",
    "# logkge = he.evaluator(he.kge, simulations=np.log(modeled_data), evaluations=np.log(observed_data))\n",
    "\n",
    "# df_results = pd.concat([df_results, pd.DataFrame({\n",
    "#     'BasinID': [basin_id], \n",
    "#     'NSE': [nse], \n",
    "#     'NNSE':[nnse], \n",
    "#     'logNSE':[lognse],\n",
    "#     'KGE':[kge],\n",
    "#     'logKGE': [logkge]\n",
    "#     })])\n",
    "\n",
    "# # Reset the index of the DataFrame\n",
    "# df_results = df_results.reset_index(drop=True)\n",
    "\n",
    "# # Print the results DataFrame\n",
    "# print(df_results)\n",
    "# df_results.to_csv(os.path.join(best_runs_dir, 'best_runs_eval.csv'))"
   ]
  },
  {
   "cell_type": "code",
   "execution_count": null,
   "metadata": {},
   "outputs": [],
   "source": []
  }
 ],
 "metadata": {
  "kernelspec": {
   "display_name": "CFE-torch",
   "language": "python",
   "name": "python3"
  },
  "language_info": {
   "codemirror_mode": {
    "name": "ipython",
    "version": 3
   },
   "file_extension": ".py",
   "mimetype": "text/x-python",
   "name": "python",
   "nbconvert_exporter": "python",
   "pygments_lexer": "ipython3",
   "version": "3.10.12"
  },
  "orig_nbformat": 4
 },
 "nbformat": 4,
 "nbformat_minor": 2
}
