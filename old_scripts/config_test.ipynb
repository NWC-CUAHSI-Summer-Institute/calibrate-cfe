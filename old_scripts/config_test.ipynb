{
 "cells": [
  {
   "cell_type": "code",
   "execution_count": 11,
   "metadata": {},
   "outputs": [],
   "source": [
    "import os\n",
    "import configparser\n",
    "\n",
    "# Get the absolute path to the config.ini file\n",
    "config_path = os.path.join(os.getcwd(), 'config.ini')\n",
    "\n",
    "# Read the INI config file\n",
    "config = configparser.ConfigParser()\n",
    "config.read(config_path)\n",
    "\n",
    "# Access the config variables\n",
    "basin_dir = config.get('DEFAULT', 'basin_dir')\n",
    "basin_filename = config.get('DEFAULT', 'basin_filename')\n"
   ]
  },
  {
   "cell_type": "code",
   "execution_count": 12,
   "metadata": {},
   "outputs": [
    {
     "name": "stdout",
     "output_type": "stream",
     "text": [
      "..\\data\\camels\\gauch_etal_2020\n"
     ]
    }
   ],
   "source": [
    "print(basin_dir)"
   ]
  },
  {
   "cell_type": "code",
   "execution_count": 14,
   "metadata": {},
   "outputs": [
    {
     "data": {
      "text/plain": [
       "'..\\\\data\\\\camels\\\\gauch_etal_2020\\\\basin_list_516.txt'"
      ]
     },
     "execution_count": 14,
     "metadata": {},
     "output_type": "execute_result"
    }
   ],
   "source": []
  },
  {
   "cell_type": "code",
   "execution_count": 21,
   "metadata": {},
   "outputs": [
    {
     "name": "stdout",
     "output_type": "stream",
     "text": [
      "..\\data\\camels\\gauch_etal_2020\\basin_list_516.txt\n"
     ]
    },
    {
     "data": {
      "text/plain": [
       "'01022500'"
      ]
     },
     "execution_count": 21,
     "metadata": {},
     "output_type": "execute_result"
    }
   ],
   "source": [
    "with open(os.path.join(basin_dir, basin_filename), 'r') as file:\n",
    "    print(os.path.join(basin_dir, basin_filename))\n",
    "    lines = file.readlines()\n",
    "    # Remove leading/trailing whitespaces and newline characters\n",
    "    lines = [line.strip() for line in lines]\n",
    "basin_list_str = lines\n",
    "basin_list_str[0]"
   ]
  },
  {
   "cell_type": "code",
   "execution_count": null,
   "metadata": {},
   "outputs": [],
   "source": []
  }
 ],
 "metadata": {
  "kernelspec": {
   "display_name": "CFE",
   "language": "python",
   "name": "python3"
  },
  "language_info": {
   "codemirror_mode": {
    "name": "ipython",
    "version": 3
   },
   "file_extension": ".py",
   "mimetype": "text/x-python",
   "name": "python",
   "nbconvert_exporter": "python",
   "pygments_lexer": "ipython3",
   "version": "3.8.13"
  },
  "orig_nbformat": 4
 },
 "nbformat": 4,
 "nbformat_minor": 2
}
