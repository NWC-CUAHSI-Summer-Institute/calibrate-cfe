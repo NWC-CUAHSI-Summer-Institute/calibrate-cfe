{
 "cells": [
  {
   "attachments": {},
   "cell_type": "markdown",
   "metadata": {},
   "source": [
    "# Download CAMELS-US data\n",
    "This notebook downloads CAMELS data, loads them into memory, cleans that data then saves a cleaned data product, which may be used later on for some analysis.\n",
    "\n",
    "Written by Ryoko Araki (San Diego State University & UCSB, raraki8159@sdsu.edu) in 2023 SI \n"
   ]
  },
  {
   "cell_type": "code",
   "execution_count": null,
   "metadata": {},
   "outputs": [],
   "source": [
    "# !pip install tqdm\n",
    "# !pip install wget"
   ]
  },
  {
   "cell_type": "code",
   "execution_count": 2,
   "metadata": {
    "tags": []
   },
   "outputs": [],
   "source": [
    "import os\n",
    "import numpy as np\n",
    "import pandas as pd\n",
    "from datetime import datetime\n",
    "import wget\n",
    "from tqdm import tqdm\n",
    "import tarfile"
   ]
  },
  {
   "cell_type": "code",
   "execution_count": 7,
   "metadata": {},
   "outputs": [],
   "source": [
    "download_mode = 'Python' #['Python','CLI']\n",
    "data_folder = '../data/camels/gauch_etal_2020'\n",
    "attr_folder = '../data/camels/ucar'\n",
    "\n",
    "if not os.path.exists('../data/'):\n",
    "    os.mkdir('../data/')\n",
    "if not os.path.exists('../data/camels'):\n",
    "    os.mkdir('../data/camels')\n",
    "if not os.path.exists(data_folder):\n",
    "    os.mkdir(data_folder)\n",
    "if not os.path.exists(attr_folder):\n",
    "    os.mkdir(attr_folder) \n"
   ]
  },
  {
   "attachments": {},
   "cell_type": "markdown",
   "metadata": {},
   "source": [
    "# CAMELs observation & forcing (Gauch et al., 2020)\n",
    "## Download files from on-line host.\n",
    "Homepage: https://zenodo.org/record/4072701/\n",
    "\n",
    "Citation: Gauch, Martin, Kratzert, Frederik, Klotz, Daniel, Nearing, Grey, Lin, Jimmy, & Hochreiter, Sepp. (2020). Data for \"Rainfall-Runoff Prediction at Multiple Timescales with a Single Long Short-Term Memory Network\" [Data set]. Zenodo. https://doi.org/10.5281/zenodo.4072701"
   ]
  },
  {
   "cell_type": "code",
   "execution_count": 52,
   "metadata": {},
   "outputs": [],
   "source": [
    "url_head = r'https://zenodo.org/record/4072701/files/'\n",
    "url_end = '?download=1'\n",
    "camels_files = [\n",
    "    'README.md',\n",
    "    'usgs_streamflow_csv.tar.gz',\n",
    "    'nldas_hourly_csv.tar.gz',\n",
    "    'usgs-streamflow-nldas_hourly.nc',\n",
    "    ]"
   ]
  },
  {
   "cell_type": "code",
   "execution_count": 19,
   "metadata": {},
   "outputs": [
    {
     "ename": "NameError",
     "evalue": "name 'camels_files' is not defined",
     "output_type": "error",
     "traceback": [
      "\u001b[1;31m---------------------------------------------------------------------------\u001b[0m",
      "\u001b[1;31mNameError\u001b[0m                                 Traceback (most recent call last)",
      "\u001b[1;32mg:\\Shared drives\\SI_NextGen_Aridity\\calibrate_cfe\\0-download_camels_data.ipynb Cell 7\u001b[0m in \u001b[0;36m<cell line: 1>\u001b[1;34m()\u001b[0m\n\u001b[0;32m      <a href='vscode-notebook-cell:/g%3A/Shared%20drives/SI_NextGen_Aridity/calibrate_cfe/0-download_camels_data.ipynb#W6sZmlsZQ%3D%3D?line=4'>5</a>\u001b[0m     os\u001b[39m.\u001b[39mmakedirs(data_folder)\n\u001b[0;32m      <a href='vscode-notebook-cell:/g%3A/Shared%20drives/SI_NextGen_Aridity/calibrate_cfe/0-download_camels_data.ipynb#W6sZmlsZQ%3D%3D?line=6'>7</a>\u001b[0m \u001b[39m# Download the data\u001b[39;00m\n\u001b[1;32m----> <a href='vscode-notebook-cell:/g%3A/Shared%20drives/SI_NextGen_Aridity/calibrate_cfe/0-download_camels_data.ipynb#W6sZmlsZQ%3D%3D?line=7'>8</a>\u001b[0m \u001b[39mfor\u001b[39;00m camels_file \u001b[39min\u001b[39;00m tqdm(camels_files):\n\u001b[0;32m      <a href='vscode-notebook-cell:/g%3A/Shared%20drives/SI_NextGen_Aridity/calibrate_cfe/0-download_camels_data.ipynb#W6sZmlsZQ%3D%3D?line=8'>9</a>\u001b[0m     url \u001b[39m=\u001b[39m url_head \u001b[39m+\u001b[39m camels_file \u001b[39m+\u001b[39m url_end\n\u001b[0;32m     <a href='vscode-notebook-cell:/g%3A/Shared%20drives/SI_NextGen_Aridity/calibrate_cfe/0-download_camels_data.ipynb#W6sZmlsZQ%3D%3D?line=9'>10</a>\u001b[0m     \u001b[39mprint\u001b[39m(\u001b[39mf\u001b[39m\u001b[39m\"\u001b[39m\u001b[39mProcessing: \u001b[39m\u001b[39m{\u001b[39;00murl\u001b[39m}\u001b[39;00m\u001b[39m\"\u001b[39m)\n",
      "\u001b[1;31mNameError\u001b[0m: name 'camels_files' is not defined"
     ]
    }
   ],
   "source": [
    "if download_mode == 'Python':\n",
    "        \n",
    "    # Download the data\n",
    "    for camels_file in tqdm(camels_files):\n",
    "        url = url_head + camels_file + url_end\n",
    "        print(f\"Processing: {url}\")\n",
    "        wget.download(url, out=data_folder)"
   ]
  },
  {
   "attachments": {},
   "cell_type": "markdown",
   "metadata": {},
   "source": [
    "In the Linux environment, you can also run a bash file"
   ]
  },
  {
   "cell_type": "code",
   "execution_count": 2,
   "metadata": {
    "tags": []
   },
   "outputs": [
    {
     "ename": "SyntaxError",
     "evalue": "invalid syntax (3182278642.py, line 4)",
     "output_type": "error",
     "traceback": [
      "\u001b[1;36m  Input \u001b[1;32mIn [2]\u001b[1;36m\u001b[0m\n\u001b[1;33m    if [ -d \"$DATA_DIR\" ]; then rm -Rf $DATA_DIR; fi\u001b[0m\n\u001b[1;37m            ^\u001b[0m\n\u001b[1;31mSyntaxError\u001b[0m\u001b[1;31m:\u001b[0m invalid syntax\n"
     ]
    }
   ],
   "source": [
    "%%bash\n",
    "DATA_DIR=\"../data/camels/\"\n",
    "if [ -d \"$DATA_DIR\" ]; then rm -Rf $DATA_DIR; fi\n",
    "mkdir $DATA_DIR\n",
    "filenames=(nldas_hourly_csv.tar.gz README.md usgs-streamflow-nldas_hourly.nc usgs_streamflow_csv.tar.gz)\n",
    "for filename in ${filenames[@]}\n",
    "do \n",
    "    wget -O \"${DATA_DIR}${filename}\" \"https://zenodo.org/record/4072701/files/${filename}?download=1\"\n",
    "done"
   ]
  },
  {
   "attachments": {},
   "cell_type": "markdown",
   "metadata": {},
   "source": [
    "## Unzip files"
   ]
  },
  {
   "cell_type": "code",
   "execution_count": 53,
   "metadata": {},
   "outputs": [],
   "source": [
    "output_dir = data_folder\n",
    "for i in [1, 2]:\n",
    "    # 1 for the usgs-streamflow\n",
    "    # 2 for the nldas-forcing\n",
    "    filename = os.path.join(data_folder, camels_files[i])\n",
    "    if os.path.exists(filename):\n",
    "        with tarfile.open(filename, 'r:gz') as tar:\n",
    "            # Extract all files in the tar.gz file\n",
    "            tar.extractall(path=output_dir)\n",
    "    else:\n",
    "        print('The file hasn\\'t been downloaded yet')\n",
    "    "
   ]
  },
  {
   "attachments": {},
   "cell_type": "markdown",
   "metadata": {},
   "source": [
    "## Save the list of gauge ID (Gauch et al., 2020)"
   ]
  },
  {
   "cell_type": "code",
   "execution_count": 49,
   "metadata": {},
   "outputs": [],
   "source": [
    "id_list = []\n",
    "file_names = os.listdir(os.path.join(data_folder, 'usgs_streamflow'))  # Get all file names in the folder\n",
    "\n",
    "# Loop through files in the folder\n",
    "for file_name in file_names:\n",
    "    # Extract the first 8 digits of the file name\n",
    "    file_id = file_name[:8]\n",
    "    id_list.append(file_id)\n",
    "sorted_id_list = sorted(id_list)\n",
    "\n",
    "# Save the list as a text file\n",
    "output_file = os.path.join(data_folder, 'basin_561.txt')\n",
    "with open(output_file, 'w') as file:\n",
    "    for item in sorted_id_list:\n",
    "        file.write(\"%s\\n\" % item)"
   ]
  },
  {
   "cell_type": "code",
   "execution_count": 31,
   "metadata": {},
   "outputs": [
    {
     "data": {
      "text/plain": [
       "516"
      ]
     },
     "execution_count": 31,
     "metadata": {},
     "output_type": "execute_result"
    }
   ],
   "source": [
    "len(file_names)"
   ]
  },
  {
   "attachments": {},
   "cell_type": "markdown",
   "metadata": {},
   "source": [
    "## (Skip the followings) \n",
    "## Comparison with previous groups' list (Krazert et al., 2020)"
   ]
  },
  {
   "attachments": {},
   "cell_type": "markdown",
   "metadata": {},
   "source": [
    "## Check if all the files necessary are extracted "
   ]
  },
  {
   "cell_type": "code",
   "execution_count": 25,
   "metadata": {
    "tags": []
   },
   "outputs": [
    {
     "name": "stdout",
     "output_type": "stream",
     "text": [
      "531\n",
      "['01022500', '01031500', '01047000', '01052500', '01054200']\n"
     ]
    },
    {
     "data": {
      "text/plain": [
       "4"
      ]
     },
     "execution_count": 25,
     "metadata": {},
     "output_type": "execute_result"
    }
   ],
   "source": [
    "basin_file = r\"G:\\Shared drives\\SI_NextGen_Aridity\\data\\camels\\basin_list_531.txt\"\n",
    "with open(basin_file, 'r') as file:\n",
    "    lines = file.readlines()\n",
    "    # Remove leading/trailing whitespaces and newline characters\n",
    "    lines = [line.strip() for line in lines]\n",
    "basin_list = lines\n",
    "print(len(basin_list))\n",
    "print(basin_list[0:5])"
   ]
  },
  {
   "cell_type": "code",
   "execution_count": 30,
   "metadata": {},
   "outputs": [
    {
     "name": "stdout",
     "output_type": "stream",
     "text": [
      "Missing IDs: ['02112120', '02112360', '02125000', '02342933', '02464360', '04127918', '04161580', '04233000', '03238500', '03500240', '06291500', '09035800', '12383500', '11230500', '11237500']\n"
     ]
    }
   ],
   "source": [
    "file_names = os.listdir(os.path.join(data_folder, 'usgs_streamflow'))  # Get all file names in the folder\n",
    "missing_basin_ids = [id for id in basin_list if not any(file_name.startswith(id) for file_name in file_names)]\n",
    "print('Missing IDs:', missing_basin_ids)"
   ]
  },
  {
   "attachments": {},
   "cell_type": "markdown",
   "metadata": {},
   "source": [
    "#  CAMELs attributes (UCAR)\n",
    "## Download the data\n",
    "\n",
    "Home page: https://gdex.ucar.edu/dataset/camels.html"
   ]
  },
  {
   "cell_type": "code",
   "execution_count": 39,
   "metadata": {},
   "outputs": [],
   "source": [
    "filenames=[\n",
    "    \"camels_clim.txt\",\n",
    "    \"camels_geol.txt\",\n",
    "    \"camels_hydro.txt\",\n",
    "    \"camels_name.txt\",\n",
    "    \"camels_soil.txt\",\n",
    "    \"camels_topo.txt\",\n",
    "    \"camels_vege.txt\"\n",
    "    ]\n",
    "\n",
    "md5_checksums = [\n",
    "    '67f22592f3fb72c57df81358ce68458b',\n",
    "    'f5ce5de53eb1ea2532cda7e3b4813993',\n",
    "    '55ebdeb36c42ee7acdb998229c3edb3a',\n",
    "    'c96491b32c4df55a31bead7ceca7d64b',\n",
    "    '8edb46a363a20b466a4b7105ba633767',\n",
    "    '0f6267838c40b1507b64582433bc0b8e',\n",
    "    'f40e843defc1e654a800be9fe5fd5090'\n",
    "    ]\n",
    "url_head = r'https://gdex.ucar.edu/api/v1/dataset/camels/file/'"
   ]
  },
  {
   "cell_type": "code",
   "execution_count": 44,
   "metadata": {},
   "outputs": [
    {
     "name": "stderr",
     "output_type": "stream",
     "text": []
    },
    {
     "name": "stdout",
     "output_type": "stream",
     "text": [
      "Processing: https://gdex.ucar.edu/api/v1/dataset/camels/file/camels_clim.txt\n",
      "Processing: https://gdex.ucar.edu/api/v1/dataset/camels/file/camels_geol.txt\n",
      "Processing: https://gdex.ucar.edu/api/v1/dataset/camels/file/camels_hydro.txt\n",
      "Processing: https://gdex.ucar.edu/api/v1/dataset/camels/file/camels_name.txt\n",
      "Processing: https://gdex.ucar.edu/api/v1/dataset/camels/file/camels_soil.txt\n",
      "Processing: https://gdex.ucar.edu/api/v1/dataset/camels/file/camels_topo.txt\n",
      "Processing: https://gdex.ucar.edu/api/v1/dataset/camels/file/camels_vege.txt\n"
     ]
    },
    {
     "name": "stderr",
     "output_type": "stream",
     "text": [
      "7it [00:00, 32.01it/s]\n"
     ]
    }
   ],
   "source": [
    "# Still debugging\n",
    "import subprocess\n",
    "if download_mode == 'Win':\n",
    "\n",
    "    # If it doesn't exist, create it\n",
    "    if not os.path.exists(attr_folder):\n",
    "        os.makedirs(attr_folder)\n",
    "        \n",
    "    # Download the data\n",
    "    for camels_file, md5_checksum in tqdm(zip(filenames, md5_checksums)):\n",
    "        url = url_head + camels_file\n",
    "        print(f\"Processing: {url}\")\n",
    "        \n",
    "        # wget_options = f\"--header='Content-MD5: {md5_checksum}'\"\n",
    "        # wget.download(url, out=attr_folder, options=wget_options)\n",
    "        # cmd = f\"wget --header='Content-MD5: {md5_checksum}' {url} -P {attr_folder}\"\n",
    "        # subprocess.run(cmd, shell=True)"
   ]
  },
  {
   "cell_type": "code",
   "execution_count": null,
   "metadata": {},
   "outputs": [],
   "source": [
    "%%bash\n",
    "DATA_DIR=\"../data/camels/ucar/\"\n",
    "if [ -d \"$DATA_DIR\" ]; then rm -Rf $DATA_DIR; fi\n",
    "mkdir $DATA_DIR\n",
    "filenames=(camels_clim.txt, camels_geol.txt camels_hydro.txt camels_name.txt camels_soil.txt camels_topo.txt camels_vege.txt)\n",
    "for filename in ${filenames[@]}\n",
    "do \n",
    "    wget -O \"${DATA_DIR}${filename}\" \"https://zenodo.org/record/4072701/files/${filename}?download=1\"\n",
    "done"
   ]
  },
  {
   "cell_type": "code",
   "execution_count": 45,
   "metadata": {},
   "outputs": [
    {
     "data": {
      "text/html": [
       "<div>\n",
       "<style scoped>\n",
       "    .dataframe tbody tr th:only-of-type {\n",
       "        vertical-align: middle;\n",
       "    }\n",
       "\n",
       "    .dataframe tbody tr th {\n",
       "        vertical-align: top;\n",
       "    }\n",
       "\n",
       "    .dataframe thead th {\n",
       "        text-align: right;\n",
       "    }\n",
       "</style>\n",
       "<table border=\"1\" class=\"dataframe\">\n",
       "  <thead>\n",
       "    <tr style=\"text-align: right;\">\n",
       "      <th></th>\n",
       "      <th>p_mean</th>\n",
       "      <th>pet_mean</th>\n",
       "      <th>p_seasonality</th>\n",
       "      <th>frac_snow</th>\n",
       "      <th>aridity</th>\n",
       "      <th>high_prec_freq</th>\n",
       "      <th>high_prec_dur</th>\n",
       "      <th>high_prec_timing</th>\n",
       "      <th>low_prec_freq</th>\n",
       "      <th>low_prec_dur</th>\n",
       "      <th>...</th>\n",
       "      <th>area_geospa_fabric</th>\n",
       "      <th>frac_forest</th>\n",
       "      <th>lai_max</th>\n",
       "      <th>lai_diff</th>\n",
       "      <th>gvf_max</th>\n",
       "      <th>gvf_diff</th>\n",
       "      <th>dom_land_cover_frac</th>\n",
       "      <th>dom_land_cover</th>\n",
       "      <th>root_depth_50</th>\n",
       "      <th>root_depth_99</th>\n",
       "    </tr>\n",
       "    <tr>\n",
       "      <th>gauge_id</th>\n",
       "      <th></th>\n",
       "      <th></th>\n",
       "      <th></th>\n",
       "      <th></th>\n",
       "      <th></th>\n",
       "      <th></th>\n",
       "      <th></th>\n",
       "      <th></th>\n",
       "      <th></th>\n",
       "      <th></th>\n",
       "      <th></th>\n",
       "      <th></th>\n",
       "      <th></th>\n",
       "      <th></th>\n",
       "      <th></th>\n",
       "      <th></th>\n",
       "      <th></th>\n",
       "      <th></th>\n",
       "      <th></th>\n",
       "      <th></th>\n",
       "      <th></th>\n",
       "    </tr>\n",
       "  </thead>\n",
       "  <tbody>\n",
       "    <tr>\n",
       "      <th>1013500</th>\n",
       "      <td>3.126679</td>\n",
       "      <td>1.971555</td>\n",
       "      <td>0.187940</td>\n",
       "      <td>0.313440</td>\n",
       "      <td>0.630559</td>\n",
       "      <td>12.95</td>\n",
       "      <td>1.348958</td>\n",
       "      <td>son</td>\n",
       "      <td>202.20</td>\n",
       "      <td>3.427119</td>\n",
       "      <td>...</td>\n",
       "      <td>2303.95</td>\n",
       "      <td>0.9063</td>\n",
       "      <td>4.167304</td>\n",
       "      <td>3.340732</td>\n",
       "      <td>0.804567</td>\n",
       "      <td>0.371648</td>\n",
       "      <td>0.883452</td>\n",
       "      <td>Mixed Forests</td>\n",
       "      <td>NaN</td>\n",
       "      <td>NaN</td>\n",
       "    </tr>\n",
       "    <tr>\n",
       "      <th>1022500</th>\n",
       "      <td>3.608126</td>\n",
       "      <td>2.119256</td>\n",
       "      <td>-0.114530</td>\n",
       "      <td>0.245259</td>\n",
       "      <td>0.587356</td>\n",
       "      <td>20.55</td>\n",
       "      <td>1.205279</td>\n",
       "      <td>son</td>\n",
       "      <td>233.65</td>\n",
       "      <td>3.662226</td>\n",
       "      <td>...</td>\n",
       "      <td>620.38</td>\n",
       "      <td>0.9232</td>\n",
       "      <td>4.871392</td>\n",
       "      <td>3.746692</td>\n",
       "      <td>0.863936</td>\n",
       "      <td>0.337712</td>\n",
       "      <td>0.820493</td>\n",
       "      <td>Mixed Forests</td>\n",
       "      <td>0.237435</td>\n",
       "      <td>2.238444</td>\n",
       "    </tr>\n",
       "    <tr>\n",
       "      <th>1030500</th>\n",
       "      <td>3.274405</td>\n",
       "      <td>2.043594</td>\n",
       "      <td>0.047358</td>\n",
       "      <td>0.277018</td>\n",
       "      <td>0.624111</td>\n",
       "      <td>17.15</td>\n",
       "      <td>1.207746</td>\n",
       "      <td>son</td>\n",
       "      <td>215.60</td>\n",
       "      <td>3.514262</td>\n",
       "      <td>...</td>\n",
       "      <td>3676.09</td>\n",
       "      <td>0.8782</td>\n",
       "      <td>4.685200</td>\n",
       "      <td>3.665543</td>\n",
       "      <td>0.858502</td>\n",
       "      <td>0.351393</td>\n",
       "      <td>0.975258</td>\n",
       "      <td>Mixed Forests</td>\n",
       "      <td>NaN</td>\n",
       "      <td>NaN</td>\n",
       "    </tr>\n",
       "    <tr>\n",
       "      <th>1031500</th>\n",
       "      <td>3.522957</td>\n",
       "      <td>2.071324</td>\n",
       "      <td>0.104091</td>\n",
       "      <td>0.291836</td>\n",
       "      <td>0.587950</td>\n",
       "      <td>18.90</td>\n",
       "      <td>1.148936</td>\n",
       "      <td>son</td>\n",
       "      <td>227.35</td>\n",
       "      <td>3.473644</td>\n",
       "      <td>...</td>\n",
       "      <td>766.53</td>\n",
       "      <td>0.9548</td>\n",
       "      <td>4.903259</td>\n",
       "      <td>3.990843</td>\n",
       "      <td>0.870668</td>\n",
       "      <td>0.398619</td>\n",
       "      <td>1.000000</td>\n",
       "      <td>Mixed Forests</td>\n",
       "      <td>0.250000</td>\n",
       "      <td>2.400000</td>\n",
       "    </tr>\n",
       "    <tr>\n",
       "      <th>1047000</th>\n",
       "      <td>3.323146</td>\n",
       "      <td>2.090024</td>\n",
       "      <td>0.147776</td>\n",
       "      <td>0.280118</td>\n",
       "      <td>0.628929</td>\n",
       "      <td>20.10</td>\n",
       "      <td>1.165217</td>\n",
       "      <td>son</td>\n",
       "      <td>235.90</td>\n",
       "      <td>3.691706</td>\n",
       "      <td>...</td>\n",
       "      <td>904.94</td>\n",
       "      <td>0.9906</td>\n",
       "      <td>5.086811</td>\n",
       "      <td>4.300978</td>\n",
       "      <td>0.891383</td>\n",
       "      <td>0.445473</td>\n",
       "      <td>0.850450</td>\n",
       "      <td>Mixed Forests</td>\n",
       "      <td>0.241027</td>\n",
       "      <td>2.340180</td>\n",
       "    </tr>\n",
       "  </tbody>\n",
       "</table>\n",
       "<p>5 rows × 59 columns</p>\n",
       "</div>"
      ],
      "text/plain": [
       "            p_mean  pet_mean  p_seasonality  frac_snow   aridity  \\\n",
       "gauge_id                                                           \n",
       "1013500   3.126679  1.971555       0.187940   0.313440  0.630559   \n",
       "1022500   3.608126  2.119256      -0.114530   0.245259  0.587356   \n",
       "1030500   3.274405  2.043594       0.047358   0.277018  0.624111   \n",
       "1031500   3.522957  2.071324       0.104091   0.291836  0.587950   \n",
       "1047000   3.323146  2.090024       0.147776   0.280118  0.628929   \n",
       "\n",
       "          high_prec_freq  high_prec_dur high_prec_timing  low_prec_freq  \\\n",
       "gauge_id                                                                  \n",
       "1013500            12.95       1.348958              son         202.20   \n",
       "1022500            20.55       1.205279              son         233.65   \n",
       "1030500            17.15       1.207746              son         215.60   \n",
       "1031500            18.90       1.148936              son         227.35   \n",
       "1047000            20.10       1.165217              son         235.90   \n",
       "\n",
       "          low_prec_dur  ... area_geospa_fabric frac_forest   lai_max  \\\n",
       "gauge_id                ...                                            \n",
       "1013500       3.427119  ...            2303.95      0.9063  4.167304   \n",
       "1022500       3.662226  ...             620.38      0.9232  4.871392   \n",
       "1030500       3.514262  ...            3676.09      0.8782  4.685200   \n",
       "1031500       3.473644  ...             766.53      0.9548  4.903259   \n",
       "1047000       3.691706  ...             904.94      0.9906  5.086811   \n",
       "\n",
       "          lai_diff   gvf_max  gvf_diff  dom_land_cover_frac  \\\n",
       "gauge_id                                                      \n",
       "1013500   3.340732  0.804567  0.371648             0.883452   \n",
       "1022500   3.746692  0.863936  0.337712             0.820493   \n",
       "1030500   3.665543  0.858502  0.351393             0.975258   \n",
       "1031500   3.990843  0.870668  0.398619             1.000000   \n",
       "1047000   4.300978  0.891383  0.445473             0.850450   \n",
       "\n",
       "             dom_land_cover  root_depth_50  root_depth_99  \n",
       "gauge_id                                                   \n",
       "1013500       Mixed Forests            NaN            NaN  \n",
       "1022500       Mixed Forests       0.237435       2.238444  \n",
       "1030500       Mixed Forests            NaN            NaN  \n",
       "1031500       Mixed Forests       0.250000       2.400000  \n",
       "1047000       Mixed Forests       0.241027       2.340180  \n",
       "\n",
       "[5 rows x 59 columns]"
      ]
     },
     "execution_count": 45,
     "metadata": {},
     "output_type": "execute_result"
    }
   ],
   "source": [
    "dfs = {}\n",
    "for filename in filenames:\n",
    "    with open(os.path.join(attr_folder, filename)) as f:\n",
    "        dfs[filename] = pd.read_csv(f, sep=\";\", index_col=\"gauge_id\")\n",
    "df = pd.concat([dfs[filename] for filename in filenames], axis=1)\n",
    "df.head()"
   ]
  },
  {
   "cell_type": "code",
   "execution_count": 47,
   "metadata": {},
   "outputs": [],
   "source": [
    "df.to_csv(os.path.join(attr_folder, \"camels_attributes_concat.csv\"))"
   ]
  }
 ],
 "metadata": {
  "kernelspec": {
   "display_name": "Python 3 (ipykernel)",
   "language": "python",
   "name": "python3"
  },
  "language_info": {
   "codemirror_mode": {
    "name": "ipython",
    "version": 3
   },
   "file_extension": ".py",
   "mimetype": "text/x-python",
   "name": "python",
   "nbconvert_exporter": "python",
   "pygments_lexer": "ipython3",
   "version": "3.8.13"
  }
 },
 "nbformat": 4,
 "nbformat_minor": 4
}
