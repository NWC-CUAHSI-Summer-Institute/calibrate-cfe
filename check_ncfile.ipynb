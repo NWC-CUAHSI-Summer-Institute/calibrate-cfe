{
 "cells": [
  {
   "cell_type": "code",
   "execution_count": 1,
   "metadata": {},
   "outputs": [],
   "source": [
    "import netCDF4\n"
   ]
  },
  {
   "cell_type": "code",
   "execution_count": 2,
   "metadata": {},
   "outputs": [
    {
     "name": "stdout",
     "output_type": "stream",
     "text": [
      "Variables:\n",
      "date\n",
      "convective_fraction\n",
      "longwave_radiation\n",
      "potential_energy\n",
      "potential_evaporation\n",
      "pressure\n",
      "shortwave_radiation\n",
      "specific_humidity\n",
      "temperature\n",
      "total_precipitation\n",
      "wind_u\n",
      "wind_v\n",
      "qobs_mm_per_hour\n",
      "qobs_count\n",
      "qualifiers\n",
      "utcoffset_hours\n",
      "rel_deviation_from_camels\n",
      "qobs_CAMELS_mm_per_hour\n",
      "basin\n",
      "\n",
      "Dimensions:\n",
      "date\n",
      "basin\n"
     ]
    }
   ],
   "source": [
    "\n",
    "# Open the NetCDF file\n",
    "nc_file = r\"G:\\Shared drives\\SI_NextGen_Aridity\\data\\camels\\gauch_etal_2020\\usgs-streamflow-nldas_hourly.nc\"\n",
    "dataset = netCDF4.Dataset(nc_file)\n",
    "\n",
    "# Print the variables and dimensions in the NetCDF file\n",
    "print('Variables:')\n",
    "for var in dataset.variables:\n",
    "    print(var)\n",
    "\n",
    "print('\\nDimensions:')\n",
    "for dim in dataset.dimensions:\n",
    "    print(dim)\n",
    "\n",
    "# # Access the data of a specific variable\n",
    "# variable = dataset.variables['variable_name']\n",
    "# data = variable[:]"
   ]
  },
  {
   "cell_type": "code",
   "execution_count": 3,
   "metadata": {},
   "outputs": [
    {
     "name": "stdout",
     "output_type": "stream",
     "text": [
      "<class 'netCDF4._netCDF4.Variable'>\n",
      "float32 qobs_mm_per_hour(basin, date)\n",
      "    _FillValue: nan\n",
      "unlimited dimensions: \n",
      "current shape = (516, 352368)\n",
      "filling on\n",
      "[-- -- -- ... 0.00809402484446764 0.007883080281317234\n",
      " 0.007812765426933765]\n"
     ]
    }
   ],
   "source": [
    "variable = dataset.variables['qobs_mm_per_hour']\n",
    "data = variable[:]\n",
    "print(variable)\n",
    "print(data[0])"
   ]
  },
  {
   "cell_type": "code",
   "execution_count": 4,
   "metadata": {},
   "outputs": [
    {
     "data": {
      "text/plain": [
       "<class 'netCDF4._netCDF4.Variable'>\n",
       "vlen qualifiers(basin, date)\n",
       "vlen data type: <class 'str'>\n",
       "unlimited dimensions: \n",
       "current shape = (516, 352368)"
      ]
     },
     "execution_count": 4,
     "metadata": {},
     "output_type": "execute_result"
    }
   ],
   "source": [
    "dataset.variables['qualifiers']"
   ]
  },
  {
   "cell_type": "code",
   "execution_count": 13,
   "metadata": {},
   "outputs": [],
   "source": [
    "dataset.variables['qualifiers'][:][1]"
   ]
  },
  {
   "cell_type": "code",
   "execution_count": 5,
   "metadata": {},
   "outputs": [],
   "source": [
    "variable = dataset.variables['qualifiers']\n",
    "data = variable[:]\n",
    "print(variable)\n",
    "print(data[0])"
   ]
  },
  {
   "cell_type": "code",
   "execution_count": null,
   "metadata": {},
   "outputs": [],
   "source": [
    "variable = dataset.variables['qobs_CAMELS_mm_per_hour']\n",
    "data = variable[:]\n",
    "print(variable)\n",
    "print(data)"
   ]
  },
  {
   "cell_type": "code",
   "execution_count": null,
   "metadata": {},
   "outputs": [],
   "source": [
    "# Close the NetCDF file\n",
    "dataset.close()"
   ]
  }
 ],
 "metadata": {
  "kernelspec": {
   "display_name": "CFE",
   "language": "python",
   "name": "python3"
  },
  "language_info": {
   "codemirror_mode": {
    "name": "ipython",
    "version": 3
   },
   "file_extension": ".py",
   "mimetype": "text/x-python",
   "name": "python",
   "nbconvert_exporter": "python",
   "pygments_lexer": "ipython3",
   "version": "3.11.0"
  },
  "orig_nbformat": 4
 },
 "nbformat": 4,
 "nbformat_minor": 2
}
