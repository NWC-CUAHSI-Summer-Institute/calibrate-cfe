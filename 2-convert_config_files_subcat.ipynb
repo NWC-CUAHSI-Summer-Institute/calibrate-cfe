{
 "cells": [
  {
   "cell_type": "markdown",
   "metadata": {},
   "source": [
    "# This code convert the config files from Hydrofabric sub catchments --> cfe_py config file"
   ]
  },
  {
   "cell_type": "markdown",
   "metadata": {},
   "source": [
    "Written by \n",
    "- Ryoko Araki (San Diego State University & UCSB, raraki8159@sdsu.edu) in 2023 SI  \n",
    "\n",
    "Hydrofabric outputs obtained by \n",
    "- Jeremy Rapp (Michigan State University, rappjer1@msu.edu) in 2023 SI\n"
   ]
  },
  {
   "cell_type": "markdown",
   "metadata": {},
   "source": [
    "# Import libraries"
   ]
  },
  {
   "cell_type": "code",
   "execution_count": 1,
   "metadata": {},
   "outputs": [],
   "source": [
    "import os\n",
    "import numpy as np\n",
    "import pandas as pd\n",
    "import json\n",
    "from tqdm import tqdm\n",
    "import yaml\n",
    "import glob"
   ]
  },
  {
   "cell_type": "markdown",
   "metadata": {},
   "source": [
    "## Read in config for the file path "
   ]
  },
  {
   "cell_type": "code",
   "execution_count": null,
   "metadata": {},
   "outputs": [],
   "source": [
    "# Read the config file\n",
    "with open('config.yaml', 'r') as f:\n",
    "    config = yaml.safe_load(f)\n",
    "\n",
    "hydrofabric_dir = config['io_dir']['hydrofabric_dir'].replace(\"${cwd}\", \"..\")\n",
    "basin_file = config['model_settings']['basin_file'].replace(\"${cwd}\", \"..\")"
   ]
  },
  {
   "cell_type": "markdown",
   "metadata": {},
   "source": [
    "## Define functions"
   ]
  },
  {
   "cell_type": "code",
   "execution_count": 9,
   "metadata": {},
   "outputs": [],
   "source": [
    "def load_basin_list(basin_file):\n",
    "    with open(basin_file, 'r') as file:\n",
    "        lines = file.readlines()\n",
    "    lines = [line.strip() for line in lines]\n",
    "    return lines"
   ]
  },
  {
   "cell_type": "code",
   "execution_count": 11,
   "metadata": {},
   "outputs": [],
   "source": [
    "basin_list = load_basin_list(basin_file=basin_file)"
   ]
  },
  {
   "cell_type": "code",
   "execution_count": 12,
   "metadata": {},
   "outputs": [],
   "source": [
    "g_id = basin_list[0]"
   ]
  },
  {
   "cell_type": "code",
   "execution_count": 21,
   "metadata": {},
   "outputs": [],
   "source": [
    "# Find the file paths\n",
    "pattern = os.path.join(hydrofabric_dir, f'Gage-{g_id}', 'wb-*', 'config', 'cfe_noahowp_attributes.csv')\n",
    "\n",
    "# Use glob to find files\n",
    "files = glob.glob(pattern)\n",
    "\n",
    "if len(files) != 1:\n",
    "    Warning(f\"There are more than 1 catchments defined for 1 CAMELS basin: {g_id}\") \n",
    "else: \n",
    "    # There should be only one folder for each CAMELS basin\n",
    "    model_params = pd.read_csv(files[0])\n",
    "\n",
    "model_params.head()\n",
    "model_params.set_index('divide_id', inplace=True)"
   ]
  },
  {
   "cell_type": "code",
   "execution_count": 33,
   "metadata": {},
   "outputs": [
    {
     "data": {
      "text/plain": [
       "'cat-6295'"
      ]
     },
     "execution_count": 33,
     "metadata": {},
     "output_type": "execute_result"
    }
   ],
   "source": [
    "subcat_id = model_params.index[0]\n",
    "subcat_id"
   ]
  },
  {
   "cell_type": "code",
   "execution_count": 36,
   "metadata": {},
   "outputs": [
    {
     "data": {
      "text/plain": [
       "gw_Coeff                     5.000000e-03\n",
       "gw_Zmax                      1.123984e+01\n",
       "gw_Expon                     7.000000e+00\n",
       "bexp_soil_layers_stag=1      8.593685e+00\n",
       "bexp_soil_layers_stag=2      8.593685e+00\n",
       "bexp_soil_layers_stag=3      8.593685e+00\n",
       "bexp_soil_layers_stag=4      8.593685e+00\n",
       "ISLTYP                       3.000000e+00\n",
       "IVGTYP                       1.400000e+01\n",
       "dksat_soil_layers_stag=1     9.037535e-07\n",
       "dksat_soil_layers_stag=2     9.037535e-07\n",
       "dksat_soil_layers_stag=3     9.037535e-07\n",
       "dksat_soil_layers_stag=4     9.037535e-07\n",
       "psisat_soil_layers_stag=1    1.243868e-02\n",
       "psisat_soil_layers_stag=2    1.243868e-02\n",
       "psisat_soil_layers_stag=3    1.243868e-02\n",
       "psisat_soil_layers_stag=4    1.243868e-02\n",
       "cwpvt                        3.310437e-01\n",
       "mfsno                        8.377431e-01\n",
       "mp                           1.023954e+01\n",
       "quartz_soil_layers_stag=1    6.000000e-01\n",
       "quartz_soil_layers_stag=2    6.000000e-01\n",
       "quartz_soil_layers_stag=3    6.000000e-01\n",
       "quartz_soil_layers_stag=4    6.000000e-01\n",
       "refkdt                       3.849597e+00\n",
       "slope                        8.609366e-02\n",
       "smcmax_soil_layers_stag=1    3.601261e-01\n",
       "smcmax_soil_layers_stag=2    3.601261e-01\n",
       "smcmax_soil_layers_stag=3    3.601261e-01\n",
       "smcmax_soil_layers_stag=4    3.601261e-01\n",
       "smcwlt_soil_layers_stag=1    4.700000e-02\n",
       "smcwlt_soil_layers_stag=2    4.700000e-02\n",
       "smcwlt_soil_layers_stag=3    4.700000e-02\n",
       "smcwlt_soil_layers_stag=4    4.700000e-02\n",
       "vcmx25                       7.169376e+01\n",
       "Name: cat-6295, dtype: float64"
      ]
     },
     "execution_count": 36,
     "metadata": {},
     "output_type": "execute_result"
    }
   ],
   "source": [
    "model_params_subcat = model_params.loc[subcat_id]\n",
    "model_params_subcat"
   ]
  },
  {
   "cell_type": "markdown",
   "metadata": {},
   "source": [
    "## Define dict of parameter names hydrofabric output vs CFE_py"
   ]
  },
  {
   "cell_type": "code",
   "execution_count": 37,
   "metadata": {},
   "outputs": [
    {
     "data": {
      "text/plain": [
       "0.3601260582463709"
      ]
     },
     "execution_count": 37,
     "metadata": {},
     "output_type": "execute_result"
    }
   ],
   "source": [
    "param_names_hf_cfepy = {\n",
    "    \n",
    "}"
   ]
  }
 ],
 "metadata": {
  "kernelspec": {
   "display_name": "Python 3 (ipykernel)",
   "language": "python",
   "name": "python3"
  },
  "language_info": {
   "codemirror_mode": {
    "name": "ipython",
    "version": 3
   },
   "file_extension": ".py",
   "mimetype": "text/x-python",
   "name": "python",
   "nbconvert_exporter": "python",
   "pygments_lexer": "ipython3",
   "version": "3.9.9"
  }
 },
 "nbformat": 4,
 "nbformat_minor": 4
}
