{
 "cells": [
  {
   "attachments": {},
   "cell_type": "markdown",
   "metadata": {},
   "source": [
    "# Create config files\n",
    "Create config files for ...\n",
    "- Datetime for calibration, validation, testing period commonly used across models\n",
    "- CFE parameter bounds for calibration\n",
    "\n",
    "\n",
    "To be edited  \n",
    "Written by Ryoko Araki (San Diego State University & UCSB, raraki8159@sdsu.edu) in 2023 SI "
   ]
  },
  {
   "cell_type": "code",
   "execution_count": 4,
   "metadata": {},
   "outputs": [],
   "source": [
    "import json\n",
    "import os\n",
    "import configparser\n",
    "import yaml\n"
   ]
  },
  {
   "attachments": {},
   "cell_type": "markdown",
   "metadata": {},
   "source": [
    "## Read in config for the file path "
   ]
  },
  {
   "cell_type": "code",
   "execution_count": 5,
   "metadata": {},
   "outputs": [],
   "source": [
    "# Read the config file\n",
    "with open('config.yml', 'r') as f:\n",
    "    config = yaml.safe_load(f)"
   ]
  },
  {
   "attachments": {},
   "cell_type": "markdown",
   "metadata": {},
   "source": [
    "## Create config for the dates for calibration, validation, testing period"
   ]
  },
  {
   "cell_type": "code",
   "execution_count": 7,
   "metadata": {},
   "outputs": [],
   "source": [
    "# Get the absolute path to the config.ini file\n",
    "# Access the config variables\n",
    "data_dir = config['io_dir']['data_dir']\n",
    "if not os.path.exists(data_dir):\n",
    "    os.mkdir(data_dir)\n",
    "\n",
    "model_config_dir = config['io_dir']['model_config_dir']\n",
    "if not os.path.exists(model_config_dir):\n",
    "    os.mkdir(model_config_dir)"
   ]
  },
  {
   "attachments": {},
   "cell_type": "markdown",
   "metadata": {},
   "source": [
    "### Define the datetime values"
   ]
  },
  {
   "cell_type": "code",
   "execution_count": 8,
   "metadata": {},
   "outputs": [],
   "source": [
    "\n",
    "spinup_for_calib_start_datetime = '2006-10-01 00:00:00'\n",
    "spinup_for_calib_end_datetime = '2007-09-30 23:00:00'\n",
    "cal_start_datetime = '2007-10-01 00:00:00'\n",
    "cal_end_datetime = '2013-09-30 23:00:00'\n",
    "spinup_for_test_start_datetime = '2001-10-01 00:00:00'\n",
    "spinup_for_test_end_datetime = '2002-09-30 23:00:00'\n",
    "test_start_datetime = '2002-10-01 00:00:00'\n",
    "test_end_datetime = '2007-09-30 23:00:00'"
   ]
  },
  {
   "attachments": {},
   "cell_type": "markdown",
   "metadata": {},
   "source": [
    "### Create the dictionary\n",
    "It's important to add notes because the definition of \"calibration\" \"validation\" \"testing\" varies depending on the field "
   ]
  },
  {
   "cell_type": "code",
   "execution_count": 9,
   "metadata": {},
   "outputs": [
    {
     "name": "stdout",
     "output_type": "stream",
     "text": [
      "{\n",
      "    \"spinup-for-calibration\": {\n",
      "        \"start_datetime\": \"2006-10-01 00:00:00\",\n",
      "        \"end_datetime\": \"2007-09-30 23:00:00\",\n",
      "        \"note\": \"Used for CFE model spin-up by 2022 team (1yr before calibration period)\"\n",
      "    },\n",
      "    \"calibration\": {\n",
      "        \"start_datetime\": \"2007-10-01 00:00:00\",\n",
      "        \"end_datetime\": \"2013-09-30 23:00:00\",\n",
      "        \"note\": \"Used for calibrating CFE model & training LSTM by 2022 team\"\n",
      "    },\n",
      "    \"spinup-for-testing\": {\n",
      "        \"start_datetime\": \"2001-10-01 00:00:00\",\n",
      "        \"end_datetime\": \"2002-09-30 23:00:00\",\n",
      "        \"note\": \"Used for CFE model spin-up by 2022 team (1yr before testing period)\"\n",
      "    },\n",
      "    \"testing\": {\n",
      "        \"start_datetime\": \"2002-10-01 00:00:00\",\n",
      "        \"end_datetime\": \"2007-09-30 23:00:00\",\n",
      "        \"note\": \"Used for checking CFE & LSTM performance after calibration by 2022 team. No validation (hyper-parameter tuning) performed for LSTM\"\n",
      "    }\n",
      "}\n"
     ]
    }
   ],
   "source": [
    "data_dict = {\n",
    "    \"spinup-for-calibration\": {\n",
    "        \"start_datetime\": spinup_for_calib_start_datetime,\n",
    "        \"end_datetime\": spinup_for_calib_end_datetime,\n",
    "        \"note\": \"Used for CFE model spin-up by 2022 team (1yr before calibration period)\"\n",
    "    },\n",
    "    \"calibration\": {\n",
    "        \"start_datetime\": cal_start_datetime,\n",
    "        \"end_datetime\": cal_end_datetime,\n",
    "        \"note\": \"Used for calibrating CFE model & training LSTM by 2022 team\"\n",
    "    },\n",
    "    \"spinup-for-testing\": {\n",
    "        \"start_datetime\": spinup_for_test_start_datetime,\n",
    "        \"end_datetime\": spinup_for_test_end_datetime,\n",
    "        \"note\": \"Used for CFE model spin-up by 2022 team (1yr before testing period)\"\n",
    "    },\n",
    "    \"testing\": {\n",
    "        \"start_datetime\": test_start_datetime,\n",
    "        \"end_datetime\": test_end_datetime,\n",
    "        \"note\": \"Used for checking CFE & LSTM performance after calibration by 2022 team. No validation (hyper-parameter tuning) performed for LSTM\"\n",
    "    }\n",
    "}\n",
    "\n",
    "# Convert the dictionary to JSON\n",
    "json_data = json.dumps(data_dict, indent=4)\n",
    "\n",
    "# Print or save the JSON data\n",
    "print(json_data)\n"
   ]
  },
  {
   "attachments": {},
   "cell_type": "markdown",
   "metadata": {},
   "source": [
    "### Save the dictionary as a JSON file"
   ]
  },
  {
   "cell_type": "code",
   "execution_count": 11,
   "metadata": {},
   "outputs": [],
   "source": [
    "output_file_path = config['model_settings']['time_split_file']\n",
    "with open(output_file_path, 'w') as file:\n",
    "    json.dump(data_dict, file, indent=4)"
   ]
  },
  {
   "attachments": {},
   "cell_type": "markdown",
   "metadata": {},
   "source": [
    "## Create parameter config"
   ]
  },
  {
   "cell_type": "code",
   "execution_count": 14,
   "metadata": {},
   "outputs": [],
   "source": [
    "param_bounds_dict = {\n",
    "    \"bb\": {\n",
    "        \"lower_bound\": 0,\n",
    "        \"upper_bound\": 21.94\n",
    "    },\n",
    "    \"smcmax\": {\n",
    "        \"lower_bound\": 0.20554,\n",
    "        \"upper_bound\": 1\n",
    "    },\n",
    "    \"satdk\": {\n",
    "        \"lower_bound\": 0,\n",
    "        \"upper_bound\": 0.000726\n",
    "    },\n",
    "    \"slop\": {\n",
    "        \"lower_bound\": 0,\n",
    "        \"upper_bound\": 1\n",
    "    },\n",
    "    \"max_gw_storage\": {\n",
    "        \"lower_bound\": 0.01,\n",
    "        \"upper_bound\": 0.25\n",
    "    },\n",
    "    \"expon\": {\n",
    "        \"lower_bound\": 1,\n",
    "        \"upper_bound\": 8\n",
    "    },\n",
    "    \"Cgw\": {\n",
    "        \"lower_bound\": 1.8e-6,\n",
    "        \"upper_bound\": 1.8e-3\n",
    "    },\n",
    "    \"K_lf\": {\n",
    "        \"lower_bound\": 0,\n",
    "        \"upper_bound\": 1\n",
    "    },\n",
    "    \"K_nash\": {\n",
    "        \"lower_bound\": 0,\n",
    "        \"upper_bound\": 1\n",
    "    },\n",
    "    \"scheme\": {\n",
    "        \"lower_bound\": 0.01,\n",
    "        \"upper_bound\": 0.99\n",
    "    }\n",
    "}\n"
   ]
  },
  {
   "cell_type": "code",
   "execution_count": 15,
   "metadata": {},
   "outputs": [],
   "source": [
    "output_file_path = config['model_settings']['parameter_bound_file']\n",
    "with open(output_file_path, 'w') as file:\n",
    "    json.dump(param_bounds_dict, file, indent=4)"
   ]
  }
 ],
 "metadata": {
  "kernelspec": {
   "display_name": "CFE",
   "language": "python",
   "name": "python3"
  },
  "language_info": {
   "codemirror_mode": {
    "name": "ipython",
    "version": 3
   },
   "file_extension": ".py",
   "mimetype": "text/x-python",
   "name": "python",
   "nbconvert_exporter": "python",
   "pygments_lexer": "ipython3",
   "version": "3.10.12"
  },
  "orig_nbformat": 4
 },
 "nbformat": 4,
 "nbformat_minor": 2
}
