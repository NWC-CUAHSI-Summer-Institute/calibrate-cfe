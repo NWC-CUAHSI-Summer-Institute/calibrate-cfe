{
 "cells": [
  {
   "attachments": {},
   "cell_type": "markdown",
   "metadata": {},
   "source": [
    "# Create config file (datetime for calibration, validation, testing period, commonly used across models)\n",
    "To be edited\n",
    "Written by Ryoko Araki (San Diego State University & UCSB, raraki8159@sdsu.edu) in 2023 SI "
   ]
  },
  {
   "cell_type": "code",
   "execution_count": 1,
   "metadata": {},
   "outputs": [],
   "source": [
    "import numpy as np\n",
    "import json"
   ]
  },
  {
   "attachments": {},
   "cell_type": "markdown",
   "metadata": {},
   "source": [
    "## Define the dates here\n",
    "I referred to Sophie's code https://github.com/jmframe/nextgen-form-eval/blob/main/Calibration/make_config_files.py"
   ]
  },
  {
   "cell_type": "code",
   "execution_count": 2,
   "metadata": {},
   "outputs": [],
   "source": [
    "# Define the datetime values\n",
    "\n",
    "# check_nan_in_data uses the 2001-2022 as spin-up\n",
    "# spinup_start_datetime = '2001-10-01 00:00:00'\n",
    "# spinup_end_datetime = '2002-09-30 23:00:00'\n",
    "# The following dates were actually used in the CFE_calibration_loop_1.py\n",
    "# spinup_start_datetime = '2006-10-01 00:00:00'\n",
    "# spinup_end_datetime = '2007-09-30 23:00:00'\n",
    "\n",
    "spinup_start_datetime = '2006-10-01 00:00:00'\n",
    "spinup_end_datetime = '2007-09-30 23:00:00'\n",
    "cal_start_datetime = '2007-10-01 00:00:00'\n",
    "cal_end_datetime = '2013-09-30 23:00:00'\n",
    "val_start_datetime = '2002-10-01 00:00:00'\n",
    "val_end_datetime = '2007-09-30 23:00:00'"
   ]
  },
  {
   "attachments": {},
   "cell_type": "markdown",
   "metadata": {},
   "source": [
    "## Create the dictionary\n",
    "It's important to add notes because the definition of \"calibration\" \"validation\" \"testing\" varies depending on the field "
   ]
  },
  {
   "cell_type": "code",
   "execution_count": 3,
   "metadata": {},
   "outputs": [
    {
     "name": "stdout",
     "output_type": "stream",
     "text": [
      "{\n",
      "    \"spinup\": {\n",
      "        \"start_datetime\": \"2006-10-01 00:00:00\",\n",
      "        \"end_datetime\": \"2007-09-30 23:00:00\",\n",
      "        \"note\": \"Used for CFE model spin-up by 2022 team\"\n",
      "    },\n",
      "    \"calibration\": {\n",
      "        \"start_datetime\": \"2007-10-01 00:00:00\",\n",
      "        \"end_datetime\": \"2013-09-30 23:00:00\",\n",
      "        \"note\": \"Used for CFE model calibration by 2022 team\"\n",
      "    },\n",
      "    \"validation\": {\n",
      "        \"start_datetime\": \"2002-10-01 00:00:00\",\n",
      "        \"end_datetime\": \"2007-09-30 23:00:00\",\n",
      "        \"note\": \"Used for CFE model checking performance after parameter calibration by 2022 team\"\n",
      "    }\n",
      "}\n"
     ]
    }
   ],
   "source": [
    "data_dict = {\n",
    "    'spinup': {\n",
    "        'start_datetime': spinup_start_datetime,\n",
    "        'end_datetime': spinup_end_datetime,\n",
    "        'note': 'Used for CFE model spin-up by 2022 team'\n",
    "    },\n",
    "    'calibration': {\n",
    "        'start_datetime': cal_start_datetime,\n",
    "        'end_datetime': cal_end_datetime,\n",
    "        'note': 'Used for CFE model calibration by 2022 team'\n",
    "    },\n",
    "    'validation': {\n",
    "        'start_datetime': val_start_datetime,\n",
    "        'end_datetime': val_end_datetime,\n",
    "        'note': 'Used for CFE model checking performance after parameter calibration by 2022 team'\n",
    "    }\n",
    "}\n",
    "\n",
    "# Convert the dictionary to JSON\n",
    "json_data = json.dumps(data_dict, indent=4)\n",
    "\n",
    "# Print or save the JSON data\n",
    "print(json_data)\n"
   ]
  },
  {
   "attachments": {},
   "cell_type": "markdown",
   "metadata": {},
   "source": [
    "## Save the dictionary as a JSON file"
   ]
  },
  {
   "cell_type": "code",
   "execution_count": 4,
   "metadata": {},
   "outputs": [],
   "source": [
    "output_file = r'G:\\Shared drives\\SI_NextGen_Aridity\\data\\common_model_configs\\cal-val-test-period.json'\n",
    "with open(output_file, 'w') as file:\n",
    "    json.dump(data_dict, file, indent=4)"
   ]
  },
  {
   "cell_type": "code",
   "execution_count": null,
   "metadata": {},
   "outputs": [],
   "source": []
  }
 ],
 "metadata": {
  "kernelspec": {
   "display_name": "CFE",
   "language": "python",
   "name": "python3"
  },
  "language_info": {
   "codemirror_mode": {
    "name": "ipython",
    "version": 3
   },
   "file_extension": ".py",
   "mimetype": "text/x-python",
   "name": "python",
   "nbconvert_exporter": "python",
   "pygments_lexer": "ipython3",
   "version": "3.8.13"
  },
  "orig_nbformat": 4
 },
 "nbformat": 4,
 "nbformat_minor": 2
}
