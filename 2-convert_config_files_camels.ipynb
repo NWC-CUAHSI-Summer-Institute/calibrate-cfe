{
 "cells": [
  {
   "attachments": {},
   "cell_type": "markdown",
   "metadata": {},
   "source": [
    "# This code renders the parameter config files for CFE-Cver to CFE-Python version"
   ]
  },
  {
   "attachments": {},
   "cell_type": "markdown",
   "metadata": {},
   "source": [
    "Written by Ryoko Araki (San Diego State University & UCSB, raraki8159@sdsu.edu) in 2023 SI "
   ]
  },
  {
   "cell_type": "code",
   "execution_count": 49,
   "metadata": {},
   "outputs": [],
   "source": [
    "# %%\n",
    "import pandas as pd\n",
    "import numpy as np\n",
    "import os\n",
    "import sys\n",
    "import json\n",
    "import re \n",
    "\n",
    "from omegaconf import DictConfig, OmegaConf\n",
    "import hydra\n",
    "import yaml\n",
    "import warnings\n",
    "from tqdm import tqdm\n"
   ]
  },
  {
   "attachments": {},
   "cell_type": "markdown",
   "metadata": {},
   "source": [
    "## Read the config"
   ]
  },
  {
   "cell_type": "code",
   "execution_count": 34,
   "metadata": {},
   "outputs": [],
   "source": [
    "with open('config.yaml', 'r') as f:\n",
    "    cfg = yaml.safe_load(f)\n",
    "    \n",
    "# define GIUH and soil params files\n",
    "GIUH_soil_dir = cfg['io_dir']['cfe_c_config_dir'].replace(\"${cwd}\", \"..\")\n",
    "\n",
    "# define basin list dir\n",
    "basin_dir = cfg['io_dir']['gauch_2020_dir'].replace(\"${cwd}\", \"..\")\n",
    "basin_filename = cfg['model_settings']['basin_file'].replace(\"${cwd}\", \"..\") # It was 516 basin in 2022 code \n",
    "\n",
    "# define camel dataset dir\n",
    "camels_attr_dir = cfg['io_dir']['ucar_dir'].replace(\"${cwd}\", \"..\")\n",
    "\n",
    "# define atmospheric forcing file dir\n",
    "forcing_path = cfg['io_dir']['nldas_forcing_dir'].replace(\"${cwd}\", \"..\")\n",
    "\n",
    "# define dir for exported json\n",
    "config_dir = cfg['io_dir']['config_dir'].replace(\"${cwd}\", \"..\")\n",
    "\n",
    "soil_scheme = cfg['CFE_config']['soil_scheme']\n"
   ]
  },
  {
   "cell_type": "code",
   "execution_count": 35,
   "metadata": {},
   "outputs": [],
   "source": [
    "with open(basin_filename, \"r\") as f:\n",
    "    basin_list = pd.read_csv(f, header=None)\n",
    "\n",
    "with open(basin_filename, 'r') as file:\n",
    "    lines = file.readlines()\n",
    "    # Remove leading/trailing whitespaces and newline characters\n",
    "    lines = [line.strip() for line in lines]\n",
    "basin_list_str = lines"
   ]
  },
  {
   "cell_type": "code",
   "execution_count": 40,
   "metadata": {},
   "outputs": [],
   "source": [
    "basin_attributes = \n"
   ]
  },
  {
   "attachments": {},
   "cell_type": "markdown",
   "metadata": {},
   "source": [
    "## Count the number of parameter files in the C version"
   ]
  },
  {
   "cell_type": "code",
   "execution_count": 55,
   "metadata": {},
   "outputs": [
    {
     "name": "stdout",
     "output_type": "stream",
     "text": [
      "Number of config files that 2022 team received from Luciana: 519\n",
      "Number of the gauges matching with our basin of interest: 516/516\n"
     ]
    }
   ],
   "source": [
    "file_count = sum(1 for _ in os.scandir(GIUH_soil_dir) if _.is_file())\n",
    "\n",
    "pattern = r'(\\d+)\\_bmi_config_cfe_pass.txt'\n",
    "gauge_ids_in_c_config = []\n",
    "for filename in os.listdir(GIUH_soil_dir):\n",
    "    match = re.match(pattern, filename)\n",
    "    if match:\n",
    "        gauge_id = match.group(1)\n",
    "        gauge_ids_in_c_config.append(gauge_id)\n",
    "        \n",
    "print(f\"Number of config files that 2022 team received from Luciana: {file_count}\")\n",
    "common_gauges = set(gauge_ids_in_c_config) & set(basin_list_str)\n",
    "print(f\"Number of the gauges matching with our basin of interest: {len(common_gauges)}/516\")\n",
    "\n",
    "if len(common_gauges) != 516:\n",
    "    warnings.warn(\"Config missing in either of the folders\")\n",
    "else:\n",
    "    None\n"
   ]
  },
  {
   "attachments": {},
   "cell_type": "markdown",
   "metadata": {},
   "source": [
    "## Read and render the config files (C -> BMIpy readable)"
   ]
  },
  {
   "cell_type": "code",
   "execution_count": 63,
   "metadata": {},
   "outputs": [],
   "source": [
    "\n",
    "def load_config(GIUH_soil_dir, gauge_id):\n",
    "    # get giuh and soil param file\n",
    "    giuh_soil_file = os.path.join(GIUH_soil_dir, f'{gauge_id}_bmi_config_cfe_pass.txt')\n",
    "    with open(giuh_soil_file, \"r\") as f:\n",
    "        text = f.read()\n",
    "    return text\n",
    "\n",
    "def render_config(gauge_id, text, default_values):\n",
    "    \n",
    "    # Initialize\n",
    "    parameters = {}\n",
    "    parameters['soil_params'] = {}\n",
    "    lines = text.strip().split(\"\\n\")\n",
    "    \n",
    "    parameters['forcing_file'] = os.path.join(forcing_path, f'{gauge_id}_hourly_nldas.csv')\n",
    "    parameters['catchment_area_km2'] = \n",
    "\n",
    "    # Loop through the lines \n",
    "    for line in lines:\n",
    "        key, value = line.split(\"=\")\n",
    "        key_parts = key.split(\".\")\n",
    "        param_name = key_parts[-1].strip()\n",
    "        \n",
    "        if \"[\" in value:\n",
    "            value = value.split(\"[\")[0].strip()\n",
    "        \n",
    "        if param_name in default_values and value != \"NaN\":\n",
    "            \n",
    "            if \",\" in value:\n",
    "                value = [float(v) for v in value.split(\",\")]\n",
    "            else:\n",
    "                try:\n",
    "                    value = float(value)\n",
    "                except ValueError:\n",
    "                    value = default_values[param_name]\n",
    "                    Warning('Detected NaN in original config file. Replaced with default values.')\n",
    "            \n",
    "            if param_name == \"b\":\n",
    "                param_name = \"bb\"\n",
    "\n",
    "            if param_name in [\"depth\", \"satdk\", \"satpsi\", \"slop\", \"smcmax\", \"wltsmc\", \"bb\"]:\n",
    "                parameters[\"soil_params\"][param_name] = value\n",
    "            else:        \n",
    "                parameters[param_name] = value\n",
    "\n",
    "    # Some default CFE-py parameters not generated through Hydrofabric\n",
    "    parameters['stand_alone'] = 1 \n",
    "    parameters['unit_test'] = 0\n",
    "    parameters['compare_results_file'] = \"\"\n",
    "    parameters['partition_scheme'] = \"Schaake\"\n",
    "    parameters['soil_scheme'] = soil_scheme\n",
    "    parameters['soil_params'][\"D\"] = 2.0\n",
    "    parameters[\"soil_params\"][\"mult\"] = 1000.0\n",
    "\n",
    "    return parameters\n",
    "\n",
    "def save_rendered_config(gauge_id, config_dir, parameters):\n",
    "    # save and export json files\n",
    "    json_filename = f'cat_{gauge_id}_bmi_config_cfe___ryokotesting.json'\n",
    "    json_file = os.path.join(config_dir, json_filename)\n",
    "\n",
    "    with open(json_file, 'w', encoding='utf-8') as f:\n",
    "        json.dump(parameters, f, ensure_ascii=False, indent=4, separators=(',', ':'))"
   ]
  },
  {
   "cell_type": "code",
   "execution_count": 64,
   "metadata": {},
   "outputs": [],
   "source": [
    "default_values = {\n",
    "    \"depth\": 2.0,\n",
    "    \"b\": 5.651162790697675,\n",
    "    \"satdk\": 1.28959488372093e-05,\n",
    "    \"satpsi\": 0.0662031693860465,\n",
    "    \"slop\": 0.013278359525581396,\n",
    "    \"smcmax\": 0.46032193756744183,\n",
    "    \"wltsmc\": 0.023237335009302328,\n",
    "    \"expon\": 1.0,\n",
    "    \"expon_secondary\": 1.0,\n",
    "    \"refkdt\": 1.0, \n",
    "    \"max_gw_storage\": 0.011877697944999994,\n",
    "    \"Cgw\": 1.8e-05,\n",
    "    \"gw_storage\": 0.05,\n",
    "    \"alpha_fc\":0.33,\n",
    "    \"K_nash\": 0.03,\n",
    "    \"K_lf\": 0.01,\n",
    "    \"nash_storage\": \"0.0,0.0\",\n",
    "    \"giuh_ordinates\": \"0.1, 0.2, 0.4, 0.2, 0.1\"\n",
    "}\n",
    "\n",
    "gauge_id = basin_list_str[0]\n",
    "# for gauge_id in tqdm(basin_list_str):\n",
    "for gauge_id in (basin_list_str[0]):\n",
    "    text = load_config(GIUH_soil_dir, gauge_id)\n",
    "    parameters = render_config(gauge_id, text, default_values)\n",
    "    save_rendered_config(gauge_id, config_dir, parameters)\n"
   ]
  },
  {
   "attachments": {},
   "cell_type": "markdown",
   "metadata": {},
   "source": [
    "## Check if all the configs are generated"
   ]
  },
  {
   "cell_type": "code",
   "execution_count": null,
   "metadata": {},
   "outputs": [],
   "source": [
    "file_count = sum(1 for _ in os.scandir(GIUH_soil_dir) if _.is_file())\n",
    "\n",
    "pattern = r'(\\d+)\\_bmi_config_cfe_pass.txt'\n",
    "gauge_ids_in_c_config = []\n",
    "for filename in os.listdir(GIUH_soil_dir):\n",
    "    match = re.match(pattern, filename)\n",
    "    if match:\n",
    "        gauge_id = match.group(1)\n",
    "        gauge_ids_in_c_config.append(gauge_id)\n",
    "        \n",
    "print(f\"Number of config files that 2022 team received from Luciana: {file_count}\")\n",
    "common_gauges = set(gauge_ids_in_c_config) & set(basin_list_str)\n",
    "print(f\"Number of the gauges matching with our basin of interest: {len(common_gauges)}/516\")\n",
    "\n",
    "if len(common_gauges) != 516:\n",
    "    warnings.warn(\"Config missing in either of the folders\")\n",
    "else:\n",
    "    None\n"
   ]
  }
 ],
 "metadata": {
  "kernelspec": {
   "display_name": "CFE-torch",
   "language": "python",
   "name": "python3"
  },
  "language_info": {
   "codemirror_mode": {
    "name": "ipython",
    "version": 3
   },
   "file_extension": ".py",
   "mimetype": "text/x-python",
   "name": "python",
   "nbconvert_exporter": "python",
   "pygments_lexer": "ipython3",
   "version": "3.10.12"
  },
  "orig_nbformat": 4
 },
 "nbformat": 4,
 "nbformat_minor": 2
}
