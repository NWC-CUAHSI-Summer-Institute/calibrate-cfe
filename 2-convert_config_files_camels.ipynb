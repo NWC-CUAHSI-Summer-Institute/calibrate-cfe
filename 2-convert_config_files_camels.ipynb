{
 "cells": [
  {
   "attachments": {},
   "cell_type": "markdown",
   "metadata": {},
   "source": [
    "# This code renders the parameter config files for CFE-Cver to CFE-Python version"
   ]
  },
  {
   "attachments": {},
   "cell_type": "markdown",
   "metadata": {},
   "source": [
    "Written by Ryoko Araki (San Diego State University & UCSB, raraki8159@sdsu.edu) in 2023 SI "
   ]
  },
  {
   "cell_type": "code",
   "execution_count": 51,
   "metadata": {},
   "outputs": [],
   "source": [
    "# %%\n",
    "import pandas as pd\n",
    "import numpy as np\n",
    "import os\n",
    "import sys\n",
    "import json\n",
    "import re \n",
    "\n",
    "from omegaconf import DictConfig, OmegaConf\n",
    "import hydra\n",
    "import yaml\n",
    "import warnings\n",
    "from tqdm import tqdm\n"
   ]
  },
  {
   "attachments": {},
   "cell_type": "markdown",
   "metadata": {},
   "source": [
    "## Read the config"
   ]
  },
  {
   "cell_type": "code",
   "execution_count": 52,
   "metadata": {},
   "outputs": [],
   "source": [
    "with open('config.yaml', 'r') as f:\n",
    "    cfg = yaml.safe_load(f)\n",
    "    \n",
    "# define GIUH and soil params files\n",
    "GIUH_soil_dir = cfg['io_dir']['cfe_c_config_dir'].replace(\"${cwd}\", \"..\")\n",
    "\n",
    "# define basin list dir\n",
    "basin_dir = cfg['io_dir']['gauch_2020_dir'].replace(\"${cwd}\", \"..\")\n",
    "basin_filename = cfg['model_settings']['basin_file'].replace(\"${cwd}\", \"..\") # It was 516 basin in 2022 code \n",
    "\n",
    "# define camel dataset dir\n",
    "camels_attr_dir = cfg['io_dir']['ucar_dir'].replace(\"${cwd}\", \"..\")\n",
    "\n",
    "# define atmospheric forcing file dir\n",
    "forcing_path = cfg['io_dir']['nldas_forcing_dir'].replace(\"${cwd}\", \"..\")\n",
    "\n",
    "# define dir for exported json\n",
    "config_dir = cfg['io_dir']['config_dir'].replace(\"${cwd}\", \"..\")\n",
    "\n",
    "soil_scheme = cfg['CFE_config']['soil_scheme']\n",
    "out_path = os.path.join(config_dir, f'soil_{soil_scheme}')\n"
   ]
  },
  {
   "cell_type": "code",
   "execution_count": 53,
   "metadata": {},
   "outputs": [],
   "source": [
    "with open(basin_filename, \"r\") as f:\n",
    "    basin_list = pd.read_csv(f, header=None)\n",
    "\n",
    "with open(basin_filename, 'r') as file:\n",
    "    lines = file.readlines()\n",
    "    # Remove leading/trailing whitespaces and newline characters\n",
    "    lines = [line.strip() for line in lines]\n",
    "basin_list_str = lines"
   ]
  },
  {
   "cell_type": "code",
   "execution_count": 54,
   "metadata": {},
   "outputs": [
    {
     "data": {
      "text/plain": [
       "0    2252.70\n",
       "1     573.60\n",
       "2    3676.17\n",
       "3     769.05\n",
       "4     909.10\n",
       "Name: area_gages2, dtype: float64"
      ]
     },
     "execution_count": 54,
     "metadata": {},
     "output_type": "execute_result"
    }
   ],
   "source": [
    "basin_attributes = pd.read_csv(os.path.join(camels_attr_dir, 'camels_attributes_concat.csv'))\n",
    "basin_attributes['gauge_id'] = basin_attributes['gauge_id'].astype(str).str.zfill(8)\n",
    "basin_attributes['area_gages2'].head()\n",
    "\n",
    "# See https://hess.copernicus.org/preprints/hess-2017-169/hess-2017-169.pdf for the definition\n",
    "# attribute: are_gages2\n",
    "# Description: catchment area (GAGESII estimate)\n",
    "# Unit: [km2]\n",
    "# Data source: N15-USGSdata\n",
    "# Reference: Falcone (2011)"
   ]
  },
  {
   "attachments": {},
   "cell_type": "markdown",
   "metadata": {},
   "source": [
    "## Count the number of parameter files in the C version"
   ]
  },
  {
   "cell_type": "code",
   "execution_count": 55,
   "metadata": {},
   "outputs": [
    {
     "name": "stdout",
     "output_type": "stream",
     "text": [
      "Number of config files that 2022 team received from Luciana: 520\n",
      "Number of the gauges matching with our basin of interest: 516/516\n"
     ]
    }
   ],
   "source": [
    "file_count = sum(1 for _ in os.scandir(GIUH_soil_dir) if _.is_file())\n",
    "\n",
    "pattern = r'(\\d+)\\_bmi_config_cfe_pass.txt'\n",
    "basin_ids_in_c_config = []\n",
    "for filename in os.listdir(GIUH_soil_dir):\n",
    "    match = re.match(pattern, filename)\n",
    "    if match:\n",
    "        basin_id = match.group(1)\n",
    "        basin_ids_in_c_config.append(basin_id)\n",
    "        \n",
    "print(f\"Number of config files that 2022 team received from Luciana: {file_count}\")\n",
    "common_gauges = set(basin_ids_in_c_config) & set(basin_list_str)\n",
    "print(f\"Number of the gauges matching with our basin of interest: {len(common_gauges)}/516\")\n",
    "\n",
    "if len(common_gauges) != 516:\n",
    "    warnings.warn(\"Config missing in either of the folders\")\n",
    "else:\n",
    "    None\n"
   ]
  },
  {
   "attachments": {},
   "cell_type": "markdown",
   "metadata": {},
   "source": [
    "## Read and render the config files (C -> BMIpy readable)"
   ]
  },
  {
   "cell_type": "code",
   "execution_count": 56,
   "metadata": {},
   "outputs": [],
   "source": [
    "\n",
    "def load_config(GIUH_soil_dir, basin_id):\n",
    "    # get giuh and soil param file\n",
    "    giuh_soil_file = os.path.join(GIUH_soil_dir, f'{basin_id}_bmi_config_cfe_pass.txt')\n",
    "    with open(giuh_soil_file, \"r\") as f:\n",
    "        text = f.read()\n",
    "    return text\n",
    "\n",
    "def render_config(basin_id, text, default_values):\n",
    "    \n",
    "    # Initialize\n",
    "    parameters = dict()\n",
    "    parameters['soil_params'] = dict()\n",
    "    lines = text.strip().split(\"\\n\")\n",
    "    \n",
    "    parameters['forcing_file'] = os.path.join(forcing_path, f'{basin_id}_hourly_nldas.csv')\n",
    "    parameters['catchment_area_km2'] = basin_attributes['area_gages2'][basin_attributes.gauge_id == basin_id].values[0]\n",
    "\n",
    "    # Loop through the lines \n",
    "    for line in lines:\n",
    "        key, value = line.split(\"=\")\n",
    "        \n",
    "        if (key == \"soil_params.expon\") or (key == \"soil_params.expon_secondary\"):\n",
    "            continue\n",
    "        key_parts = key.split(\".\")\n",
    "        param_name = key_parts[-1].strip()\n",
    "        \n",
    "        if \"[\" in value:\n",
    "            value = value.split(\"[\")[0].strip()\n",
    "        \n",
    "        if param_name in default_values and value != \"NaN\":\n",
    "            \n",
    "            if \",\" in value:\n",
    "                value = [float(v) for v in value.split(\",\")]\n",
    "            else:\n",
    "                try:\n",
    "                    value = float(value)\n",
    "                except ValueError:\n",
    "                    value = default_values[param_name]\n",
    "                    Warning('Detected NaN in original config file. Replaced with default values.')\n",
    "            \n",
    "            if param_name == \"b\":\n",
    "                param_name = \"bb\"\n",
    "\n",
    "            if param_name in [\"depth\", \"satdk\", \"satpsi\", \"slop\", \"smcmax\", \"wltsmc\", \"bb\"]:\n",
    "                parameters[\"soil_params\"][param_name] = value\n",
    "            else:        \n",
    "                parameters[param_name] = value\n",
    "\n",
    "    # Some default CFE-py parameters not generated through Hydrofabric\n",
    "    parameters['stand_alone'] = 1 \n",
    "    parameters['unit_test'] = 0\n",
    "    parameters['compare_results_file'] = \"\"\n",
    "    parameters['partition_scheme'] = \"Schaake\"\n",
    "    parameters['soil_scheme'] = soil_scheme\n",
    "    parameters['soil_params'][\"D\"] = 2.0\n",
    "    parameters[\"soil_params\"][\"mult\"] = 1000.0\n",
    "\n",
    "    return parameters\n",
    "\n",
    "def save_rendered_config(basin_id, config_dir, parameters, out_path):\n",
    "    # save and export json files\n",
    "    json_filename = f'cat_{basin_id}_bmi_config_cfe.json'\n",
    "    json_file = os.path.join(out_path, json_filename)\n",
    "    if not os.path.exists(out_path):\n",
    "        os.mkdir(os.path.join(out_path))\n",
    "    with open(json_file, 'w') as file:\n",
    "        json.dump(parameters, file, indent=4)"
   ]
  },
  {
   "cell_type": "code",
   "execution_count": 57,
   "metadata": {},
   "outputs": [
    {
     "ename": "IndentationError",
     "evalue": "expected an indented block after 'for' statement on line 22 (1148430056.py, line 23)",
     "output_type": "error",
     "traceback": [
      "\u001b[1;36m  Cell \u001b[1;32mIn[57], line 23\u001b[1;36m\u001b[0m\n\u001b[1;33m    for basin_id in tqdm([basin_list_str[0]]):\u001b[0m\n\u001b[1;37m    ^\u001b[0m\n\u001b[1;31mIndentationError\u001b[0m\u001b[1;31m:\u001b[0m expected an indented block after 'for' statement on line 22\n"
     ]
    }
   ],
   "source": [
    "default_values = {\n",
    "    \"depth\": 2.0,\n",
    "    \"b\": 4.05,\n",
    "    \"satdk\": 1e-04,\n",
    "    \"satpsi\": 0.355,\n",
    "    \"slop\": 0.5,\n",
    "    \"smcmax\": 0.439,\n",
    "    \"wltsmc\": 0.02,\n",
    "    \"expon\": 1.0,\n",
    "    \"refkdt\": 3.0, \n",
    "    \"max_gw_storage\": 0.1,\n",
    "    \"Cgw\": 1.8e-05,\n",
    "    \"gw_storage\": 0.05,\n",
    "    \"alpha_fc\": 0.33,\n",
    "    \"K_nash\": 0.03,\n",
    "    \"K_lf\": 0.01,\n",
    "    \"nash_storage\": \"0.0,0.0\",\n",
    "    \"giuh_ordinates\": \"0.1, 0.2, 0.4, 0.2, 0.1\"\n",
    "}\n",
    "\n",
    "# basin_id = basin_list_str[0]\n",
    "for basin_id in tqdm(basin_list_str):\n",
    "# for basin_id in tqdm([basin_list_str[0]]):\n",
    "    text = load_config(GIUH_soil_dir=GIUH_soil_dir, basin_id=basin_id)\n",
    "    parameters = render_config(basin_id=basin_id, text=text, default_values=default_values)\n",
    "    save_rendered_config(basin_id=basin_id, config_dir=config_dir, parameters=parameters, out_path=out_path)\n"
   ]
  },
  {
   "attachments": {},
   "cell_type": "markdown",
   "metadata": {},
   "source": [
    "## Check if all the configs are generated"
   ]
  },
  {
   "cell_type": "code",
   "execution_count": null,
   "metadata": {},
   "outputs": [
    {
     "name": "stdout",
     "output_type": "stream",
     "text": [
      "Number of config files that 2022 team received from Luciana: 1\n",
      "Number of the gauges matching with our basin of interest: 1/516\n",
      "missing gauges are: {'04127997', '01078000', '07167500', '01181000', '12451000', '12092000', '03076600', '07291000', '01552500', '02198100', '01639500', '01134500', '07315200', '01567500', '06350000', '08269000', '12035000', '03186500', '08023080', '07197000', '01539000', '03460000', '14138900', '14137000', '04040500', '07335700', '01139800', '08200000', '12048000', '01054200', '06853800', '06878000', '14158790', '02143040', '05584500', '02216180', '02349900', '08150800', '11476600', '02363000', '02472500', '02193340', '03237500', '01532000', '04213075', '08050800', '03368000', '02371500', '02069700', '05593575', '03488000', '02096846', '06917000', '01439500', '03463300', '01415000', '01440000', '02479560', '11176400', '01583500', '01137500', '02430085', '02177000', '01170100', '14309500', '05503800', '08086290', '06876700', '07261000', '01123000', '04216418', '06431500', '03140000', '12040500', '01187300', '06911900', '04197170', '09497980', '01434025', '02395120', '06889500', '01411300', '09066200', '11532500', '01350140', '02178400', '02077200', '14185900', '04057800', '05501000', '02296500', '02196000', '02298608', '14185000', '07083000', '12447390', '09378170', '14166500', '09035900', '02297310', '08164600', '08066300', '04197100', '06614800', '01333000', '01543500', '04185000', '03384450', '04074950', '11148900', '09306242', '14020000', '06921200', '06918460', '02202600', '06632400', '04059500', '02065500', '03366500', '14303200', '07375000', '01596500', '12013500', '03338780', '03364500', '09210500', '03028000', '12377150', '02481000', '08109700', '05495500', '06289000', '09492400', '02464000', '01634500', '11381500', '03180500', '06888500', '13240000', '08013000', '02118500', '03346000', '09494000', '06803530', '01552000', '11151300', '01518862', '09404450', '04122200', '02231000', '12145500', '03574500', '08104900', '14301000', '02481510', '02015700', '02027000', '12189500', '05591550', '05466500', '11284400', '02374500', '12144000', '07184000', '09513780', '14308990', '02472000', '11468500', '02016000', '07299670', '05525500', '14139800', '08380500', '06440200', '03078000', '12390700', '01542810', '03026500', '08194200', '04043050', '07315700', '02102908', '08196000', '11124500', '04221000', '04015330', '08158700', '02149000', '09512280', '01451800', '14096850', '01169000', '03237280', '01484100', '06622700', '01545600', '13313000', '09223000', '03182500', '01052500', '08189500', '03471500', '05362000', '05120500', '03069500', '14222500', '06470800', '09107000', '01669520', '12054000', '14138870', '08190500', '01548500', '01440400', '03455500', '08066200', '08070200', '02108000', '02027500', '14141500', '03015500', '01413500', '02111500', '02152100', '02059500', '02046000', '05408000', '02028500', '08178880', '12381400', '01669000', '02450250', '01466500', '11481200', '06477500', '03291780', '02372250', '06889200', '03281500', '11522500', '08377900', '11473900', '01586610', '02427250', '10259000', '09505350', '01547700', '03456500', '02064000', '08267500', '04213000', '07145700', '01632900', '01414500', '06409000', '08271000', '06921070', '12025700', '06224000', '06221400', '10336645', '01664000', '06919500', '07060710', '14306340', '07196900', '08378500', '12167000', '09430600', '08171300', '01491000', '08082700', '08070000', '06746095', '01139000', '03280700', '14182500', '11478500', '03010655', '06406000', '02038850', '12143600', '10234500', '01666500', '06311000', '04057510', '02128000', '13331500', '02479155', '03340800', '07362100', '01073000', '12082500', '08190000', '07359610', '14236200', '06879650', '05458000', '06332515', '13161500', '11143000', '02381600', '05489000', '02215100', '02074500', '02082950', '02299950', '05595730', '01605500', '02369800', '04224775', '08324000', '03070500', '02056900', '07195800', '03050000', '06906800', '08165300', '02479300', '12147500', '01516500', '02018000', '12041200', '07142300', '03144000', '02143000', '09386900', '06278300', '06352000', '01510000', '12010000', '10343500', '01591400', '09352900', '11523200', '04196800', '07066000', '02465493', '02053200', '07263295', '07180500', '04296000', '01142500', '02415000', '14306500', '05414000', '03473000', '08014500', '02053800', '01047000', '02055100', '14154500', '12178100', '14187000', '05454000', '09081600', '14362250', '02350900', '09505800', '03011800', '13018300', '03173000', '05508805', '02111180', '05393500', '04105700', '14325000', '02246000', '07346045', '12411000', '05556500', '09047700', '12175500', '14400000', '02013000', '01162500', '01557500', '09447800', '01549500', '01144000', '07301410', '14316700', '10336660', '03049800', '08176900', '11141280', '01487000', '02297155', '06903400', '01195100', '02011400', '04024430', '09510200', '05592050', '05413500', '02245500', '03021350', '09484600', '14138800', '07057500', '03241500', '14305500', '06344600', '04256000', '01632000', '13011500', '06892000', '01594950', '03285000', '11475560', '11480390', '01667500', '03170000', '01055000', '08086212', '11266500', '12375900', '02092500', '09066000', '05291000', '05399500', '01568000', '07340300', '08198500', '01423000', '02137727', '02081500', '07208500', '02014000', '03439000', '11264500', '13235000', '01544500', '10244950', '07362587', '03479000', '03604000', '03049000', '05592575', '06885500', '08103900', '08202700', '01031500', '13023000', '12488500', '02017500', '02300700', '06623800', '12020000', '12114500', '12115000', '12073500', '01057000', '12117000', '03592718', '06803510', '08164300', '01435000', '02140991', '02212600', '02298123', '01550000', '04122500', '04045500', '05495000', '09065500', '06814000', '06479215', '05057200', '05487980', '09066300', '02070000', '02051500', '05444000', '13011900', '01543000', '03498500', '14216500', '08101000', '04115265', '05507600', '03504000', '04027000', '01350000', '11482500', '12056500', '08175000', '02221525', '11451100', '01606500', '06910800', '05593900', '02469800', '09312600', '08158810', '01365000', '03500000', '02361000', '09508300', '06447500', '06847900', '06339100', '05488200', '06404000', '12186000', '01638480', '01350080', '02384540', '08195000', '06601000', '01644000', '11528700', '06280300', '04063700', '01580000'}\n"
     ]
    },
    {
     "name": "stderr",
     "output_type": "stream",
     "text": [
      "R:\\Temp\\ipykernel_6384\\1413469333.py:17: UserWarning: Config missing in either of the directories\n",
      "  warnings.warn(\"Config missing in either of the directories\")\n"
     ]
    }
   ],
   "source": [
    "file_count = sum(1 for _ in os.scandir(out_path) if _.is_file())\n",
    "\n",
    "pattern = r'cat_(\\d+)\\_bmi_config_cfe.json'\n",
    "basin_ids_in_py_config = []\n",
    "for filename in os.listdir(out_path):\n",
    "    match = re.match(pattern, filename)\n",
    "    if match:\n",
    "        basin_id = match.group(1)\n",
    "        basin_ids_in_py_config.append(basin_id)\n",
    "        \n",
    "print(f\"Number of config files that 2022 team received from Luciana: {file_count}\")\n",
    "common_gauges = set(basin_ids_in_py_config) & set(basin_list_str)\n",
    "missing_gauges = set(basin_list_str) - set(basin_ids_in_py_config)\n",
    "print(f\"Number of the gauges matching with our basin of interest: {len(common_gauges)}/516\")\n",
    "\n",
    "if len(common_gauges) != 516:\n",
    "    warnings.warn(\"Config missing in either of the directories\")\n",
    "    print(f\"missing gauges are: {missing_gauges}\")\n",
    "else:\n",
    "    None\n"
   ]
  },
  {
   "cell_type": "code",
   "execution_count": null,
   "metadata": {},
   "outputs": [],
   "source": []
  }
 ],
 "metadata": {
  "kernelspec": {
   "display_name": "CFE-torch",
   "language": "python",
   "name": "python3"
  },
  "language_info": {
   "codemirror_mode": {
    "name": "ipython",
    "version": 3
   },
   "file_extension": ".py",
   "mimetype": "text/x-python",
   "name": "python",
   "nbconvert_exporter": "python",
   "pygments_lexer": "ipython3",
   "version": "3.10.12"
  },
  "orig_nbformat": 4
 },
 "nbformat": 4,
 "nbformat_minor": 2
}
