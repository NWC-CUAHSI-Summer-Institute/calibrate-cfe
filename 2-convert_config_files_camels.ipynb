{
 "cells": [
  {
   "attachments": {},
   "cell_type": "markdown",
   "metadata": {},
   "source": [
    "# This code renders the parameter config files for CFE-Cver to CFE-Python version"
   ]
  },
  {
   "attachments": {},
   "cell_type": "markdown",
   "metadata": {},
   "source": [
    "Written by Ryoko Araki (San Diego State University & UCSB, raraki8159@sdsu.edu) in 2023 SI "
   ]
  },
  {
   "cell_type": "code",
   "execution_count": 1,
   "metadata": {},
   "outputs": [],
   "source": [
    "# %%\n",
    "import pandas as pd\n",
    "import numpy as np\n",
    "import os\n",
    "import sys\n",
    "import json\n",
    "import re \n",
    "\n",
    "from omegaconf import DictConfig, OmegaConf\n",
    "import hydra\n",
    "import yaml\n",
    "import warnings\n",
    "from tqdm import tqdm\n"
   ]
  },
  {
   "attachments": {},
   "cell_type": "markdown",
   "metadata": {},
   "source": [
    "## Read the config"
   ]
  },
  {
   "cell_type": "code",
   "execution_count": 2,
   "metadata": {},
   "outputs": [],
   "source": [
    "with open('config.yaml', 'r') as f:\n",
    "    cfg = yaml.safe_load(f)\n",
    "    \n",
    "# define GIUH and soil params files\n",
    "GIUH_soil_dir = cfg['io_dir']['cfe_c_config_dir'].replace(\"${cwd}\", \"..\")\n",
    "\n",
    "# define basin list dir\n",
    "basin_dir = cfg['io_dir']['gauch_2020_dir'].replace(\"${cwd}\", \"..\")\n",
    "basin_filename = cfg['model_settings']['basin_file'].replace(\"${cwd}\", \"..\") # It was 516 basin in 2022 code \n",
    "\n",
    "# define camel dataset dir\n",
    "camels_attr_dir = cfg['io_dir']['ucar_dir'].replace(\"${cwd}\", \"..\")\n",
    "\n",
    "# define atmospheric forcing file dir\n",
    "forcing_path = cfg['io_dir']['nldas_forcing_dir'].replace(\"${cwd}\", \"..\")\n",
    "\n",
    "# define dir for exported json\n",
    "config_dir = cfg['io_dir']['config_dir'].replace(\"${cwd}\", \"..\")\n",
    "\n",
    "soil_scheme = cfg['CFE_config']['soil_scheme']\n"
   ]
  },
  {
   "cell_type": "code",
   "execution_count": 3,
   "metadata": {},
   "outputs": [],
   "source": [
    "with open(basin_filename, \"r\") as f:\n",
    "    basin_list = pd.read_csv(f, header=None)\n",
    "\n",
    "with open(basin_filename, 'r') as file:\n",
    "    lines = file.readlines()\n",
    "    # Remove leading/trailing whitespaces and newline characters\n",
    "    lines = [line.strip() for line in lines]\n",
    "basin_list_str = lines"
   ]
  },
  {
   "cell_type": "code",
   "execution_count": 4,
   "metadata": {},
   "outputs": [
    {
     "data": {
      "text/plain": [
       "0    2252.70\n",
       "1     573.60\n",
       "2    3676.17\n",
       "3     769.05\n",
       "4     909.10\n",
       "Name: area_gages2, dtype: float64"
      ]
     },
     "execution_count": 4,
     "metadata": {},
     "output_type": "execute_result"
    }
   ],
   "source": [
    "basin_attributes = pd.read_csv(os.path.join(camels_attr_dir, 'camels_attributes_concat.csv'))\n",
    "basin_attributes['gauge_id'] = basin_attributes['gauge_id'].astype(str).str.zfill(8)\n",
    "basin_attributes['area_gages2'].head()\n",
    "\n",
    "# See https://hess.copernicus.org/preprints/hess-2017-169/hess-2017-169.pdf for the definition\n",
    "# attribute: are_gages2\n",
    "# Description: catchment area (GAGESII estimate)\n",
    "# Unit: [km2]\n",
    "# Data source: N15-USGSdata\n",
    "# Reference: Falcone (2011)"
   ]
  },
  {
   "attachments": {},
   "cell_type": "markdown",
   "metadata": {},
   "source": [
    "## Count the number of parameter files in the C version"
   ]
  },
  {
   "cell_type": "code",
   "execution_count": 5,
   "metadata": {},
   "outputs": [
    {
     "name": "stdout",
     "output_type": "stream",
     "text": [
      "Number of config files that 2022 team received from Luciana: 520\n",
      "Number of the gauges matching with our basin of interest: 516/516\n"
     ]
    }
   ],
   "source": [
    "file_count = sum(1 for _ in os.scandir(GIUH_soil_dir) if _.is_file())\n",
    "\n",
    "pattern = r'(\\d+)\\_bmi_config_cfe_pass.txt'\n",
    "basin_ids_in_c_config = []\n",
    "for filename in os.listdir(GIUH_soil_dir):\n",
    "    match = re.match(pattern, filename)\n",
    "    if match:\n",
    "        basin_id = match.group(1)\n",
    "        basin_ids_in_c_config.append(basin_id)\n",
    "        \n",
    "print(f\"Number of config files that 2022 team received from Luciana: {file_count}\")\n",
    "common_gauges = set(basin_ids_in_c_config) & set(basin_list_str)\n",
    "print(f\"Number of the gauges matching with our basin of interest: {len(common_gauges)}/516\")\n",
    "\n",
    "if len(common_gauges) != 516:\n",
    "    warnings.warn(\"Config missing in either of the folders\")\n",
    "else:\n",
    "    None\n"
   ]
  },
  {
   "attachments": {},
   "cell_type": "markdown",
   "metadata": {},
   "source": [
    "## Read and render the config files (C -> BMIpy readable)"
   ]
  },
  {
   "cell_type": "code",
   "execution_count": 6,
   "metadata": {},
   "outputs": [],
   "source": [
    "\n",
    "def load_config(GIUH_soil_dir, basin_id):\n",
    "    # get giuh and soil param file\n",
    "    giuh_soil_file = os.path.join(GIUH_soil_dir, f'{basin_id}_bmi_config_cfe_pass.txt')\n",
    "    with open(giuh_soil_file, \"r\") as f:\n",
    "        text = f.read()\n",
    "    return text\n",
    "\n",
    "def render_config(basin_id, text, default_values):\n",
    "    \n",
    "    # Initialize\n",
    "    parameters = dict()\n",
    "    parameters['soil_params'] = dict()\n",
    "    lines = text.strip().split(\"\\n\")\n",
    "    \n",
    "    parameters['forcing_file'] = os.path.join(forcing_path, f'{basin_id}_hourly_nldas.csv')\n",
    "    parameters['catchment_area_km2'] = basin_attributes['area_gages2'][basin_attributes.gauge_id == basin_id].values[0]\n",
    "\n",
    "    # Loop through the lines \n",
    "    for line in lines:\n",
    "        key, value = line.split(\"=\")\n",
    "        key_parts = key.split(\".\")\n",
    "        param_name = key_parts[-1].strip()\n",
    "        \n",
    "        if \"[\" in value:\n",
    "            value = value.split(\"[\")[0].strip()\n",
    "        \n",
    "        if param_name in default_values and value != \"NaN\":\n",
    "            \n",
    "            if \",\" in value:\n",
    "                value = [float(v) for v in value.split(\",\")]\n",
    "            else:\n",
    "                try:\n",
    "                    value = float(value)\n",
    "                except ValueError:\n",
    "                    value = default_values[param_name]\n",
    "                    Warning('Detected NaN in original config file. Replaced with default values.')\n",
    "            \n",
    "            if param_name == \"b\":\n",
    "                param_name = \"bb\"\n",
    "\n",
    "            if param_name in [\"depth\", \"satdk\", \"satpsi\", \"slop\", \"smcmax\", \"wltsmc\", \"bb\"]:\n",
    "                parameters[\"soil_params\"][param_name] = value\n",
    "            else:        \n",
    "                parameters[param_name] = value\n",
    "\n",
    "    # Some default CFE-py parameters not generated through Hydrofabric\n",
    "    parameters['stand_alone'] = 1 \n",
    "    parameters['unit_test'] = 0\n",
    "    parameters['compare_results_file'] = \"\"\n",
    "    parameters['partition_scheme'] = \"Schaake\"\n",
    "    parameters['soil_scheme'] = soil_scheme\n",
    "    parameters['soil_params'][\"D\"] = 2.0\n",
    "    parameters[\"soil_params\"][\"mult\"] = 1000.0\n",
    "\n",
    "    return parameters\n",
    "\n",
    "def save_rendered_config(basin_id, config_dir, parameters):\n",
    "    # save and export json files\n",
    "    json_filename = f'cat_{basin_id}_bmi_config_cfe___ryokotesting.json'\n",
    "    json_file = os.path.join(config_dir, json_filename)\n",
    "    with open(json_file, 'w') as file:\n",
    "        json.dump(parameters, file, indent=4)"
   ]
  },
  {
   "cell_type": "code",
   "execution_count": 7,
   "metadata": {},
   "outputs": [
    {
     "name": "stderr",
     "output_type": "stream",
     "text": [
      "100%|██████████| 1/1 [00:00<00:00, 31.24it/s]\n"
     ]
    }
   ],
   "source": [
    "default_values = {\n",
    "    \"depth\": 2.0,\n",
    "    \"b\": 5.651162790697675,\n",
    "    \"satdk\": 1.28959488372093e-05,\n",
    "    \"satpsi\": 0.0662031693860465,\n",
    "    \"slop\": 0.013278359525581396,\n",
    "    \"smcmax\": 0.46032193756744183,\n",
    "    \"wltsmc\": 0.023237335009302328,\n",
    "    \"expon\": 1.0,\n",
    "    \"expon_secondary\": 1.0,\n",
    "    \"refkdt\": 1.0, \n",
    "    \"max_gw_storage\": 0.011877697944999994,\n",
    "    \"Cgw\": 1.8e-05,\n",
    "    \"gw_storage\": 0.05,\n",
    "    \"alpha_fc\":0.33,\n",
    "    \"K_nash\": 0.03,\n",
    "    \"K_lf\": 0.01,\n",
    "    \"nash_storage\": \"0.0,0.0\",\n",
    "    \"giuh_ordinates\": \"0.1, 0.2, 0.4, 0.2, 0.1\"\n",
    "}\n",
    "\n",
    "basin_id = basin_list_str[0]\n",
    "# for basin_id in tqdm(basin_list_str):\n",
    "for basin_id in tqdm([basin_list_str[0]]):\n",
    "    text = load_config(GIUH_soil_dir=GIUH_soil_dir, basin_id=basin_id)\n",
    "    parameters = render_config(basin_id=basin_id, text=text, default_values=default_values)\n",
    "    save_rendered_config(basin_id=basin_id, config_dir=config_dir, parameters=parameters)\n"
   ]
  },
  {
   "attachments": {},
   "cell_type": "markdown",
   "metadata": {},
   "source": [
    "## Check if all the configs are generated"
   ]
  },
  {
   "cell_type": "code",
   "execution_count": 8,
   "metadata": {},
   "outputs": [
    {
     "name": "stdout",
     "output_type": "stream",
     "text": [
      "Number of config files that 2022 team received from Luciana: 241\n",
      "Number of the gauges matching with our basin of interest: 237/516\n",
      "missing gauges are: {'13240000', '08013000', '06409000', '08271000', '07346045', '07167500', '09494000', '12411000', '12451000', '06803530', '12092000', '06921070', '12025700', '06224000', '07291000', '05393500', '11151300', '06221400', '10336645', '09404450', '06919500', '05556500', '07060710', '14306340', '12175500', '14400000', '12145500', '08104900', '07196900', '14301000', '09447800', '07301410', '07315200', '08378500', '08269000', '06350000', '12035000', '12189500', '12167000', '09430600', '08171300', '08082700', '10336660', '08023080', '05591550', '08176900', '05466500', '07197000', '11284400', '08070000', '06746095', '14138900', '06903400', '14137000', '14182500', '09510200', '07335700', '11478500', '08200000', '05592050', '12048000', '12144000', '05413500', '14158790', '06853800', '06878000', '09484600', '07184000', '05584500', '14138800', '09513780', '06406000', '12143600', '07057500', '10234500', '14305500', '14308990', '11468500', '06311000', '06344600', '08150800', '13331500', '04256000', '07299670', '05525500', '14139800', '13011500', '06892000', '11476600', '11475560', '11480390', '08380500', '06440200', '07362100', '11141280', '12390700', '12082500', '08086212', '08190000', '07359610', '11266500', '08050800', '08194200', '14236200', '05593575', '12375900', '06879650', '09066000', '05291000', '05399500', '07340300', '07315700', '05458000', '08198500', '06332515', '06917000', '13161500', '07208500', '08196000', '11124500', '11143000', '05489000', '11176400', '04221000', '11264500', '14309500', '08158700', '05595730', '05503800', '13235000', '08086290', '06876700', '07261000', '10244950', '09512280', '04224775', '07362587', '08324000', '14096850', '06431500', '05592575', '12040500', '07195800', '06885500', '08103900', '06906800', '08202700', '08165300', '06911900', '13023000', '06622700', '12488500', '06623800', '12020000', '09497980', '13313000', '12114500', '12115000', '12147500', '09223000', '12073500', '12117000', '06803510', '08189500', '06889500', '08164300', '12041200', '05362000', '07142300', '09066200', '11532500', '05120500', '14222500', '09386900', '06470800', '09107000', '12054000', '14138870', '06278300', '08190500', '06352000', '14185900', '05495000', '09065500', '12010000', '08066200', '10343500', '05501000', '08070200', '06814000', '06479215', '05057200', '09352900', '05487980', '11523200', '09066300', '14141500', '14185000', '07066000', '05444000', '07083000', '13011900', '12447390', '07263295', '14216500', '09378170', '05408000', '14166500', '09035900', '07180500', '08164600', '08178880', '04296000', '08066300', '08101000', '06614800', '12381400', '05507600', '11482500', '11148900', '09306242', '11481200', '12056500', '08175000', '09047700', '14020000', '06477500', '14306500', '11451100', '06921200', '06910800', '06918460', '05414000', '08014500', '06632400', '14316700', '05593900', '09312600', '14303200', '08158810', '06889200', '07375000', '11522500', '08377900', '11473900', '12013500', '14154500', '09508300', '06447500', '09210500', '06847900', '10259000', '12178100', '09505350', '06339100', '05488200', '06404000', '12186000', '14187000', '12377150', '08109700', '08267500', '05454000', '08195000', '07145700', '05495500', '06289000', '06601000', '09492400', '09081600', '11528700', '14362250', '06280300', '11381500', '09505800', '13018300', '05508805', '06888500', '14325000'}\n"
     ]
    },
    {
     "name": "stderr",
     "output_type": "stream",
     "text": [
      "R:\\Temp\\ipykernel_6384\\201170502.py:17: UserWarning: Config missing in either of the directories\n",
      "  warnings.warn(\"Config missing in either of the directories\")\n"
     ]
    }
   ],
   "source": [
    "file_count = sum(1 for _ in os.scandir(config_dir) if _.is_file())\n",
    "\n",
    "pattern = r'cat_(\\d+)\\_bmi_config_cfe.json'\n",
    "basin_ids_in_py_config = []\n",
    "for filename in os.listdir(config_dir):\n",
    "    match = re.match(pattern, filename)\n",
    "    if match:\n",
    "        basin_id = match.group(1)\n",
    "        basin_ids_in_py_config.append(basin_id)\n",
    "        \n",
    "print(f\"Number of config files that 2022 team received from Luciana: {file_count}\")\n",
    "common_gauges = set(basin_ids_in_py_config) & set(basin_list_str)\n",
    "missing_gauges = set(basin_list_str) - set(basin_ids_in_py_config)\n",
    "print(f\"Number of the gauges matching with our basin of interest: {len(common_gauges)}/516\")\n",
    "\n",
    "if len(common_gauges) != 516:\n",
    "    warnings.warn(\"Config missing in either of the directories\")\n",
    "    print(f\"missing gauges are: {missing_gauges}\")\n",
    "else:\n",
    "    None\n"
   ]
  },
  {
   "cell_type": "code",
   "execution_count": null,
   "metadata": {},
   "outputs": [],
   "source": []
  },
  {
   "cell_type": "code",
   "execution_count": null,
   "metadata": {},
   "outputs": [],
   "source": []
  }
 ],
 "metadata": {
  "kernelspec": {
   "display_name": "CFE-torch",
   "language": "python",
   "name": "python3"
  },
  "language_info": {
   "codemirror_mode": {
    "name": "ipython",
    "version": 3
   },
   "file_extension": ".py",
   "mimetype": "text/x-python",
   "name": "python",
   "nbconvert_exporter": "python",
   "pygments_lexer": "ipython3",
   "version": "3.10.12"
  },
  "orig_nbformat": 4
 },
 "nbformat": 4,
 "nbformat_minor": 2
}
