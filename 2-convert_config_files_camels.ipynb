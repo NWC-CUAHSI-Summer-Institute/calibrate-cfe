{
 "cells": [
  {
   "cell_type": "markdown",
   "metadata": {},
   "source": [
    "# This code renders the parameter config files for CFE-Cver to CFE-Python version"
   ]
  },
  {
   "cell_type": "markdown",
   "metadata": {},
   "source": [
    "Written by Ryoko Araki (San Diego State University & UCSB, raraki8159@sdsu.edu) in 2023 SI "
   ]
  },
  {
   "cell_type": "code",
   "execution_count": 1,
   "metadata": {},
   "outputs": [],
   "source": [
    "# %%\n",
    "import pandas as pd\n",
    "import numpy as np\n",
    "import os\n",
    "import sys\n",
    "import json\n",
    "import re \n",
    "\n",
    "from omegaconf import DictConfig, OmegaConf\n",
    "import hydra\n",
    "import yaml\n",
    "import warnings\n",
    "from tqdm import tqdm"
   ]
  },
  {
   "cell_type": "markdown",
   "metadata": {},
   "source": [
    "## Read the config"
   ]
  },
  {
   "cell_type": "code",
   "execution_count": 2,
   "metadata": {},
   "outputs": [],
   "source": [
    "with open('config.yaml', 'r') as f:\n",
    "    cfg = yaml.safe_load(f)\n",
    "    \n",
    "# define GIUH and soil params files\n",
    "GIUH_soil_dir = cfg['io_dir']['cfe_c_config_dir'].replace(\"${cwd}\", \"..\")\n",
    "\n",
    "# define basin list dir\n",
    "basin_dir = cfg['io_dir']['gauch_2020_dir'].replace(\"${cwd}\", \"..\")\n",
    "basin_filename = cfg['model_settings']['basin_file'].replace(\"${cwd}\", \"..\") # It was 516 basin in 2022 code \n",
    "\n",
    "# define camel dataset dir\n",
    "camels_attr_dir = cfg['io_dir']['ucar_dir'].replace(\"${cwd}\", \"..\")\n",
    "\n",
    "# define atmospheric forcing file dir\n",
    "forcing_path = cfg['io_dir']['nldas_forcing_dir'].replace(\"${cwd}\", \"..\")\n",
    "\n",
    "# define dir for exported json\n",
    "config_dir = cfg['io_dir']['config_dir'].replace(\"${cwd}\", \"..\")\n",
    "\n",
    "soil_scheme = cfg['CFE_config']['soil_scheme']\n",
    "out_path = os.path.join(config_dir, f'soil_{soil_scheme}')"
   ]
  },
  {
   "cell_type": "code",
   "execution_count": 3,
   "metadata": {},
   "outputs": [],
   "source": [
    "with open(basin_filename, \"r\") as f:\n",
    "    basin_list = pd.read_csv(f, header=None)\n",
    "\n",
    "with open(basin_filename, 'r') as file:\n",
    "    lines = file.readlines()\n",
    "    # Remove leading/trailing whitespaces and newline characters\n",
    "    lines = [line.strip() for line in lines]\n",
    "basin_list_str = lines"
   ]
  },
  {
   "cell_type": "code",
   "execution_count": 4,
   "metadata": {},
   "outputs": [
    {
     "data": {
      "text/plain": [
       "0    2252.70\n",
       "1     573.60\n",
       "2    3676.17\n",
       "3     769.05\n",
       "4     909.10\n",
       "Name: area_gages2, dtype: float64"
      ]
     },
     "execution_count": 4,
     "metadata": {},
     "output_type": "execute_result"
    }
   ],
   "source": [
    "basin_attributes = pd.read_csv(os.path.join(camels_attr_dir, 'camels_attributes_concat.csv'))\n",
    "basin_attributes['gauge_id'] = basin_attributes['gauge_id'].astype(str).str.zfill(8)\n",
    "basin_attributes['area_gages2'].head()\n",
    "\n",
    "# See https://hess.copernicus.org/preprints/hess-2017-169/hess-2017-169.pdf for the definition\n",
    "# attribute: are_gages2\n",
    "# Description: catchment area (GAGESII estimate)\n",
    "# Unit: [km2]\n",
    "# Data source: N15-USGSdata\n",
    "# Reference: Falcone (2011)"
   ]
  },
  {
   "cell_type": "markdown",
   "metadata": {},
   "source": [
    "## Count the number of parameter files in the C version"
   ]
  },
  {
   "cell_type": "code",
   "execution_count": 5,
   "metadata": {},
   "outputs": [
    {
     "name": "stdout",
     "output_type": "stream",
     "text": [
      "Number of config files that 2022 team received from Luciana: 519\n",
      "Number of the gauges matching with our basin of interest: 0/516\n"
     ]
    },
    {
     "name": "stderr",
     "output_type": "stream",
     "text": [
      "/tmp/ipykernel_3480674/3665278611.py:16: UserWarning: Config missing in either of the folders\n",
      "  warnings.warn(\"Config missing in either of the folders\")\n"
     ]
    }
   ],
   "source": [
    "file_count = sum(1 for _ in os.scandir(GIUH_soil_dir) if _.is_file())\n",
    "\n",
    "pattern = r'(/d+)/_bmi_config_cfe_pass.txt'\n",
    "basin_ids_in_c_config = []\n",
    "for filename in os.listdir(GIUH_soil_dir):\n",
    "    match = re.match(pattern, filename)\n",
    "    if match:\n",
    "        basin_id = match.group(1)\n",
    "        basin_ids_in_c_config.append(basin_id)\n",
    "        \n",
    "print(f\"Number of config files that 2022 team received from Luciana: {file_count}\")\n",
    "common_gauges = set(basin_ids_in_c_config) & set(basin_list_str)\n",
    "print(f\"Number of the gauges matching with our basin of interest: {len(common_gauges)}/516\")\n",
    "\n",
    "if len(common_gauges) != 516:\n",
    "    warnings.warn(\"Config missing in either of the folders\")\n",
    "else:\n",
    "    None\n"
   ]
  },
  {
   "cell_type": "markdown",
   "metadata": {},
   "source": [
    "## Read and render the config files (C -> BMIpy readable)"
   ]
  },
  {
   "cell_type": "code",
   "execution_count": 6,
   "metadata": {},
   "outputs": [],
   "source": [
    "\n",
    "def load_config(GIUH_soil_dir, basin_id):\n",
    "    # get giuh and soil param file\n",
    "    giuh_soil_file = os.path.join(GIUH_soil_dir, f'{basin_id}_bmi_config_cfe_pass.txt')\n",
    "    with open(giuh_soil_file, \"r\") as f:\n",
    "        text = f.read()\n",
    "    return text\n",
    "\n",
    "def render_config(basin_id, text, default_values):\n",
    "    \n",
    "    # Initialize\n",
    "    parameters = dict()\n",
    "    parameters['soil_params'] = dict()\n",
    "    lines = text.strip().split(\"\\n\")\n",
    "    \n",
    "    parameters['forcing_file'] = os.path.join(forcing_path, f'{basin_id}_hourly_nldas.csv')\n",
    "    parameters['catchment_area_km2'] = basin_attributes['area_gages2'][basin_attributes.gauge_id == basin_id].values[0]\n",
    "\n",
    "    # Loop through the lines \n",
    "    for line in lines:\n",
    "        key, value = line.split(\"=\")\n",
    "        \n",
    "        if (key == \"soil_params.expon\") or (key == \"soil_params.expon_secondary\"):\n",
    "            continue\n",
    "        key_parts = key.split(\".\")\n",
    "        param_name = key_parts[-1].strip()\n",
    "        \n",
    "        if \"[\" in value:\n",
    "            value = value.split(\"[\")[0].strip()\n",
    "        \n",
    "        if param_name in default_values and value != \"NaN\":\n",
    "            \n",
    "            if \",\" in value:\n",
    "                value = [float(v) for v in value.split(\",\")]\n",
    "            else:\n",
    "                try:\n",
    "                    value = float(value)\n",
    "                except ValueError:\n",
    "                    value = default_values[param_name]\n",
    "                    Warning('Detected NaN in original config file. Replaced with default values.')\n",
    "            \n",
    "            if param_name == \"b\":\n",
    "                param_name = \"bb\"\n",
    "\n",
    "            if param_name in [\"depth\", \"satdk\", \"satpsi\", \"slop\", \"smcmax\", \"wltsmc\", \"bb\"]:\n",
    "                parameters[\"soil_params\"][param_name] = value\n",
    "            else:        \n",
    "                parameters[param_name] = value\n",
    "\n",
    "    # Some default CFE-py parameters not generated through Hydrofabric\n",
    "    parameters['stand_alone'] = 1 \n",
    "    parameters['unit_test'] = 0\n",
    "    parameters['compare_results_file'] = \"\"\n",
    "    parameters['partition_scheme'] = \"Schaake\"\n",
    "    parameters['soil_scheme'] = soil_scheme\n",
    "    parameters['soil_params'][\"D\"] = 2.0\n",
    "    parameters[\"soil_params\"][\"mult\"] = 1000.0\n",
    "\n",
    "    return parameters\n",
    "\n",
    "def save_rendered_config(basin_id, config_dir, parameters, out_path):\n",
    "    # save and export json files\n",
    "    json_filename = f'cat_{basin_id}_bmi_config_cfe.json'\n",
    "    json_file = os.path.join(out_path, json_filename)\n",
    "    if not os.path.exists(out_path):\n",
    "        os.mkdir(os.path.join(out_path))\n",
    "    with open(json_file, 'w') as file:\n",
    "        json.dump(parameters, file, indent=4)"
   ]
  },
  {
   "cell_type": "code",
   "execution_count": 13,
   "metadata": {},
   "outputs": [
    {
     "name": "stderr",
     "output_type": "stream",
     "text": [
      "100%|██████████| 516/516 [00:03<00:00, 170.93it/s]\n"
     ]
    }
   ],
   "source": [
    "default_values = {\n",
    "    \"depth\": 2.0,\n",
    "    \"b\": 4.05,\n",
    "    \"satdk\": 1e-04,\n",
    "    \"satpsi\": 0.355,\n",
    "    \"slop\": 0.5,\n",
    "    \"smcmax\": 0.439,\n",
    "    \"wltsmc\": 0.02,\n",
    "    \"expon\": 1.0,\n",
    "    \"refkdt\": 3.0, \n",
    "    \"max_gw_storage\": 0.1,\n",
    "    \"Cgw\": 1.8e-05,\n",
    "    \"gw_storage\": 0.05,\n",
    "    \"alpha_fc\": 0.33,\n",
    "    \"K_nash\": 0.03,\n",
    "    \"K_lf\": 0.01,\n",
    "    \"nash_storage\": \"0.0,0.0\",\n",
    "    \"giuh_ordinates\": \"0.1, 0.2, 0.4, 0.2, 0.1\"\n",
    "}\n",
    "\n",
    "# basin_id = basin_list_str[0]\n",
    "for basin_id in tqdm(basin_list_str):\n",
    "# for basin_id in tqdm([basin_list_str[0]]):\n",
    "    text = load_config(GIUH_soil_dir=GIUH_soil_dir, basin_id=basin_id)\n",
    "    parameters = render_config(basin_id=basin_id, text=text, default_values=default_values)\n",
    "    save_rendered_config(basin_id=basin_id, config_dir=config_dir, parameters=parameters, out_path=out_path)\n"
   ]
  },
  {
   "cell_type": "markdown",
   "metadata": {},
   "source": [
    "## Check if all the configs are generated"
   ]
  },
  {
   "cell_type": "code",
   "execution_count": 14,
   "metadata": {},
   "outputs": [
    {
     "name": "stdout",
     "output_type": "stream",
     "text": [
      "Number of config files that 2022 team received from Luciana: 516\n",
      "Number of the gauges matching with our basin of interest: 516/516\n"
     ]
    }
   ],
   "source": [
    "file_count = sum(1 for _ in os.scandir(out_path) if _.is_file())\n",
    "\n",
    "pattern = r'cat_(\\d+)\\_bmi_config_cfe.json'\n",
    "basin_ids_in_py_config = []\n",
    "for filename in os.listdir(out_path):\n",
    "    match = re.match(pattern, filename)\n",
    "    if match:\n",
    "        basin_id = match.group(1)\n",
    "        basin_ids_in_py_config.append(basin_id)\n",
    "        \n",
    "print(f\"Number of config files that 2022 team received from Luciana: {file_count}\")\n",
    "common_gauges = set(basin_ids_in_py_config) & set(basin_list_str)\n",
    "missing_gauges = set(basin_list_str) - set(basin_ids_in_py_config)\n",
    "print(f\"Number of the gauges matching with our basin of interest: {len(common_gauges)}/516\")\n",
    "\n",
    "if len(common_gauges) != 516:\n",
    "    warnings.warn(\"Config missing in either of the directories\")\n",
    "    print(f\"missing gauges are: {missing_gauges}\")\n",
    "else:\n",
    "    None\n"
   ]
  },
  {
   "cell_type": "code",
   "execution_count": null,
   "metadata": {},
   "outputs": [],
   "source": []
  }
 ],
 "metadata": {
  "kernelspec": {
   "display_name": "SI2023",
   "language": "python",
   "name": "si2023"
  },
  "language_info": {
   "codemirror_mode": {
    "name": "ipython",
    "version": 3
   },
   "file_extension": ".py",
   "mimetype": "text/x-python",
   "name": "python",
   "nbconvert_exporter": "python",
   "pygments_lexer": "ipython3",
   "version": "3.10.1"
  }
 },
 "nbformat": 4,
 "nbformat_minor": 4
}
